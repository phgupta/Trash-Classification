{
 "cells": [
  {
   "cell_type": "code",
   "execution_count": 1,
   "metadata": {
    "collapsed": true
   },
   "outputs": [],
   "source": [
    "import glob\n",
    "import cv2\n",
    "import sys\n",
    "import numpy as np\n",
    "import tensorflow as tf\n",
    "import matplotlib.pyplot as plt \n",
    "from PIL import Image\n",
    "from random import shuffle"
   ]
  },
  {
   "cell_type": "markdown",
   "metadata": {},
   "source": [
    "# Constants"
   ]
  },
  {
   "cell_type": "code",
   "execution_count": 2,
   "metadata": {
    "collapsed": true
   },
   "outputs": [],
   "source": [
    "DATASET_PATH = \"Dataset/**/*.jpg\"\n",
    "TRAIN_VAL_TEST = {'train': 0.6, 'val': 0.8, 'test': 1} # Train: 60%, Val: 20%, Test: 20%\n",
    "\n",
    "CLASS_LABELS = ['cardboard', 'metal', 'paper']\n",
    "NUM_CHANNELS = 3 # RGB\n",
    "NUM_CLASSES = 3 # Compost, Landfill & Recyclable\n",
    "\n",
    "IMAGE_SIZE = 256\n",
    "IMAGE_RESIZE_SHAPE = (IMAGE_SIZE, IMAGE_SIZE)\n",
    "IMAGE_RESIZE_SHAPE_LIST = [IMAGE_SIZE, IMAGE_SIZE, NUM_CHANNELS]\n",
    "\n",
    "NUM_EPOCHS = 10\n",
    "BATCH_SIZE = 5\n",
    "\n",
    "LEARNING_RATE = 0.001\n",
    "# tf.train.shuffle_batch() - batch_size, capacity, num_threads, min_after_dequeue"
   ]
  },
  {
   "cell_type": "markdown",
   "metadata": {},
   "source": [
    "# Collect & Split Data"
   ]
  },
  {
   "cell_type": "code",
   "execution_count": 3,
   "metadata": {
    "collapsed": true
   },
   "outputs": [],
   "source": [
    "def collect_split_data():\n",
    "    \n",
    "    labels = []\n",
    "    \n",
    "    files = glob.glob(DATASET_PATH)\n",
    "    for file in files:\n",
    "        if CLASS_LABELS[0] in file:\n",
    "            labels.append(0)\n",
    "        elif CLASS_LABELS[1] in file:\n",
    "            labels.append(1)\n",
    "        elif CLASS_LABELS[2] in file:\n",
    "            labels.append(2)\n",
    "        else:\n",
    "            print(\"Error: Image filename does not contain correct label.\")\n",
    "                 \n",
    "    c = list(zip(files, labels))\n",
    "    shuffle(c)\n",
    "    files, labels = zip(*c)\n",
    "    \n",
    "    train_img = files[0:int(TRAIN_VAL_TEST['train'] * len(files))]\n",
    "    train_labels = labels[0:int(TRAIN_VAL_TEST['train'] * len(files))]\n",
    "    val_img = files[int(TRAIN_VAL_TEST['train'] * len(files)) : int(TRAIN_VAL_TEST['val'] * len(files))]\n",
    "    val_labels = labels[int(TRAIN_VAL_TEST['train'] * len(files)) : int(TRAIN_VAL_TEST['val'] * len(files))]\n",
    "    test_img = files[int(TRAIN_VAL_TEST['val'] * len(files)):]\n",
    "    test_labels = labels[int(TRAIN_VAL_TEST['val'] * len(files)):]\n",
    "        \n",
    "    return len(files), train_img, train_labels, val_img, val_labels, test_img, test_labels"
   ]
  },
  {
   "cell_type": "markdown",
   "metadata": {},
   "source": [
    "# Write data to tfrecords file"
   ]
  },
  {
   "cell_type": "code",
   "execution_count": 4,
   "metadata": {
    "collapsed": true
   },
   "outputs": [],
   "source": [
    "def load_image(addr):\n",
    "    # Read, resize and convert to RGB (since cv2 loads images as BGR)\n",
    "    img = Image.open(addr)\n",
    "    img = cv2.imread(addr)\n",
    "    img = cv2.resize(img, IMAGE_RESIZE_SHAPE, interpolation=cv2.INTER_CUBIC)\n",
    "    img = cv2.cvtColor(img, cv2.COLOR_BGR2RGB)\n",
    "    img = img.astype(np.float32)\n",
    "    return img\n",
    "\n",
    "def _int64_feature(value):\n",
    "    return tf.train.Feature(int64_list=tf.train.Int64List(value=[value]))\n",
    "\n",
    "def _bytes_feature(value):\n",
    "    return tf.train.Feature(bytes_list=tf.train.BytesList(value=[value]))\n",
    "\n",
    "def create_tfrecord(files, labels, train_val_test):\n",
    "        \n",
    "    # Open .tfrecords file\n",
    "    writer = tf.python_io.TFRecordWriter(train_val_test+'.tfrecords')\n",
    "    \n",
    "    for i in range(len(files)):\n",
    "    \n",
    "        # Load image and its label\n",
    "        img = load_image(files[i])\n",
    "        label = labels[i]\n",
    "\n",
    "        # Create a feature\n",
    "        feature = { train_val_test+'/label': _int64_feature(label),\n",
    "                    train_val_test+'/image': _bytes_feature(tf.compat.as_bytes(img.tobytes())) }\n",
    "\n",
    "        # Create an example protocol buffer\n",
    "        example = tf.train.Example(features=tf.train.Features(feature=feature))\n",
    "\n",
    "        # Serialize to string and write to file\n",
    "        writer.write(example.SerializeToString())\n",
    "    \n",
    "    writer.close()\n",
    "    sys.stdout.flush()\n",
    "\n",
    "def create_tfrecords(train_img, train_labels, val_img, val_labels, test_img, test_labels):\n",
    "    \n",
    "    create_tfrecord(train_img, train_labels, 'train')\n",
    "    create_tfrecord(val_img, val_labels, 'val')\n",
    "    create_tfrecord(test_img, test_labels, 'test')"
   ]
  },
  {
   "cell_type": "markdown",
   "metadata": {},
   "source": [
    "# Read data from tfrecords file"
   ]
  },
  {
   "cell_type": "code",
   "execution_count": 5,
   "metadata": {
    "collapsed": true
   },
   "outputs": [],
   "source": [
    "def read_from_tfrecords(train_val_test):\n",
    "\n",
    "    file = glob.glob(train_val_test+'.tfrecords')\n",
    "    \n",
    "\n",
    "    feature = { train_val_test+'/image': tf.FixedLenFeature([], tf.string),\n",
    "                train_val_test+'/label': tf.FixedLenFeature([], tf.int64) }\n",
    "\n",
    "    # Enqueue train.tfrecords\n",
    "    filename_queue = tf.train.string_input_producer(file, num_epochs=None)\n",
    "\n",
    "    # Define reader and read file from queue\n",
    "    reader = tf.TFRecordReader()\n",
    "    _, serialized_example = reader.read(filename_queue)\n",
    "\n",
    "    # Decode the record read by the reader\n",
    "    features = tf.parse_single_example(serialized_example, features=feature)\n",
    "    \n",
    "    # Convert serialized data back to arrays and numbers\n",
    "    image = tf.decode_raw(features[train_val_test+'/image'], tf.float32)\n",
    "    label = tf.cast(features[train_val_test+'/label'], tf.int32)\n",
    "    \n",
    "    # Reshape image data to original shape\n",
    "    image = tf.reshape(image, IMAGE_RESIZE_SHAPE_LIST)\n",
    "    \n",
    "    return image, label\n",
    "\n",
    "\n",
    "def input_pipeline():\n",
    "    \n",
    "    image, label = read_from_tfrecords('train')\n",
    "    image_batch, label_batch = tf.train.shuffle_batch([image, label], batch_size=BATCH_SIZE, capacity=10, \n",
    "                                                num_threads=2, min_after_dequeue=2, allow_smaller_final_batch=True)\n",
    "    \n",
    "    return image_batch, label_batch"
   ]
  },
  {
   "cell_type": "markdown",
   "metadata": {},
   "source": [
    "# Convolutional Neural Network Model"
   ]
  },
  {
   "cell_type": "code",
   "execution_count": 6,
   "metadata": {
    "collapsed": true
   },
   "outputs": [],
   "source": [
    "def conv_net(x, reuse):\n",
    "        \n",
    "    with tf.name_scope(\"conv\"):\n",
    "        # First Layer\n",
    "        w1 = tf.Variable(tf.truncated_normal([11, 11, 3, 96], stddev=0.03), name=\"W\")\n",
    "        b1 = tf.Variable(tf.truncated_normal([96]), name=\"b\")\n",
    "        conv2d_layer1 = tf.nn.conv2d(x, w1, [1, 4, 4, 1], padding='SAME')\n",
    "        conv2d_layer1 += b1\n",
    "        conv2d_layer1 = tf.nn.relu(conv2d_layer1)\n",
    "        conv2d_layer1 = tf.nn.max_pool(conv2d_layer1, ksize=[1, 3, 3, 1], strides=[1, 2, 2, 1], padding='SAME')\n",
    "\n",
    "        tf.summary.histogram(\"weights\", w1)\n",
    "        tf.summary.histogram(\"biases\", b1)\n",
    "        tf.summary.histogram(\"activations\", conv2d_layer1)\n",
    "        \n",
    "        # Second Layer\n",
    "        w2 = tf.Variable(tf.truncated_normal([5, 5, 96, 192], stddev=0.03), name=\"W\")\n",
    "        b2 = tf.Variable(tf.truncated_normal([192]), name=\"b\")\n",
    "        conv2d_layer2 = tf.nn.conv2d(conv2d_layer1, w2, [1, 1, 1, 1], padding='SAME')\n",
    "        conv2d_layer2 += b2\n",
    "        conv2d_layer2 = tf.nn.relu(conv2d_layer2)\n",
    "        conv2d_layer2 = tf.nn.max_pool(conv2d_layer2, ksize=[1, 3, 3, 1], strides=[1, 2, 2, 1], padding='SAME')\n",
    "\n",
    "        # Third Layer\n",
    "        w3 = tf.Variable(tf.truncated_normal([3, 3, 192, 288], stddev=0.03), name=\"W\")\n",
    "        b3 = tf.Variable(tf.truncated_normal([288]), name=\"b\")\n",
    "        conv2d_layer3 = tf.nn.conv2d(conv2d_layer2, w3, [1, 1, 1, 1], padding='SAME')\n",
    "        conv2d_layer3 += b3\n",
    "\n",
    "        # Fourth Layer\n",
    "        w4 = tf.Variable(tf.truncated_normal([3, 3, 288, 288], stddev=0.03), name=\"W\")\n",
    "        b4 = tf.Variable(tf.truncated_normal([288]), name=\"b\")\n",
    "        conv2d_layer4 = tf.nn.conv2d(conv2d_layer3, w4, [1, 1, 1, 1], padding='SAME')\n",
    "        conv2d_layer4 += b4\n",
    "\n",
    "        # Fifth Layer\n",
    "        w5 = tf.Variable(tf.truncated_normal([3, 3, 288, 192], stddev=0.03), name=\"W\")\n",
    "        b5 = tf.Variable(tf.truncated_normal([192]), name=\"b\")\n",
    "        conv2d_layer5 = tf.nn.conv2d(conv2d_layer4, w5, [1, 1, 1, 1], padding='SAME')\n",
    "        conv2d_layer5 += b5\n",
    "        conv2d_layer5 = tf.nn.relu(conv2d_layer5)\n",
    "        conv2d_layer5 = tf.nn.max_pool(conv2d_layer5, ksize=[1, 3, 3, 1], strides=[1, 2, 2, 1], padding='SAME')\n",
    "        \n",
    "    with tf.name_scope(\"fc\"):\n",
    "        # Fully Connected Layers\n",
    "        flattened_layer = tf.reshape(conv2d_layer5, [-1, 8*8*192])\n",
    "\n",
    "        # First Layer \n",
    "        fc_w1 = tf.Variable(tf.truncated_normal([8*8*192, 4096], stddev=0.03), name=\"W\")\n",
    "        fc_b1 = tf.Variable(tf.truncated_normal([4096], stddev=0.01), name=\"b\")\n",
    "        layer1 = tf.matmul(flattened_layer, fc_w1) + fc_b1\n",
    "\n",
    "        tf.summary.histogram(\"fc_weights\", fc_w1)\n",
    "        tf.summary.histogram(\"fc_biases\", fc_b1)\n",
    "        tf.summary.histogram(\"fc_activations\", layer1)\n",
    "        \n",
    "        # Second Layer\n",
    "        fc_w2 = tf.Variable(tf.truncated_normal([4096, 4096], stddev=0.03), name=\"W\")\n",
    "        fc_b2 = tf.Variable(tf.truncated_normal([4096], stddev=0.01), name=\"b\")\n",
    "        layer2 = tf.matmul(layer1, fc_w2) + fc_b2\n",
    "\n",
    "        # Third Layer\n",
    "        fc_w3 = tf.Variable(tf.truncated_normal([4096, 3], stddev=0.03), name=\"W\")\n",
    "        fc_b3 = tf.Variable(tf.truncated_normal([3], stddev=0.01), name=\"b\")\n",
    "        layer3 = tf.matmul(layer2, fc_w3) + fc_b3\n",
    "\n",
    "        # Run softmax on final layer\n",
    "        y = tf.nn.softmax(layer3)\n",
    "    \n",
    "    return y"
   ]
  },
  {
   "cell_type": "markdown",
   "metadata": {},
   "source": [
    "# Training Convolutional Neural Network"
   ]
  },
  {
   "cell_type": "code",
   "execution_count": 7,
   "metadata": {
    "collapsed": true
   },
   "outputs": [],
   "source": [
    "def train_cnn(train_size):\n",
    "        \n",
    "    img_batch, lbl_batch = input_pipeline()\n",
    "    prediction = conv_net(img_batch, reuse=True)\n",
    "    \n",
    "    with tf.name_scope(\"cost\"):\n",
    "        cost = tf.reduce_mean(tf.nn.softmax_cross_entropy_with_logits_v2(logits=prediction, \n",
    "                                                                    labels=tf.one_hot(lbl_batch, NUM_CLASSES)))\n",
    "    with tf.name_scope(\"optimizer\"):\n",
    "        optimizer = tf.train.AdamOptimizer(LEARNING_RATE).minimize(cost)\n",
    "    \n",
    "    with tf.name_scope(\"accuracy\"):\n",
    "        correct_prediction = tf.equal(tf.argmax(prediction, 1), tf.argmax(tf.one_hot(lbl_batch, NUM_CLASSES), 1))\n",
    "        accuracy = tf.reduce_mean(tf.cast(correct_prediction, tf.float32))\n",
    "    \n",
    "    tf.summary.scalar(\"cost\", cost)\n",
    "    tf.summary.scalar(\"accuracy\", accuracy)\n",
    "    merged_summary = tf.summary.merge_all()\n",
    "    \n",
    "    with tf.Session() as sess:\n",
    "        \n",
    "        sess.run(tf.group(tf.global_variables_initializer(), tf.local_variables_initializer()))\n",
    "        writer = tf.summary.FileWriter(\"./logdir/\", sess.graph)\n",
    "        coord = tf.train.Coordinator()\n",
    "        threads = tf.train.start_queue_runners(coord=coord)\n",
    "        \n",
    "        for i in range(NUM_EPOCHS):\n",
    "            epoch_loss = 0\n",
    "            \n",
    "            for _ in range(int(train_size/BATCH_SIZE)):\n",
    "                c, _ = sess.run([cost, optimizer])\n",
    "                epoch_loss += c\n",
    "                \n",
    "            if (i % 2 == 0):\n",
    "                # [train_acc] = sess.run([accuracy])\n",
    "                s = sess.run(merged_summary)\n",
    "                writer.add_summary(s, i)\n",
    "                # print(\"Step %d, training accuracy %g\" % (i, train_acc))\n",
    "                        \n",
    "            print('Epoch', i, 'completed out of', NUM_EPOCHS, 'Loss:', epoch_loss)\n",
    "                 \n",
    "        coord.request_stop()\n",
    "        coord.join(threads)"
   ]
  },
  {
   "cell_type": "markdown",
   "metadata": {},
   "source": [
    "# Main"
   ]
  },
  {
   "cell_type": "code",
   "execution_count": 8,
   "metadata": {},
   "outputs": [
    {
     "name": "stdout",
     "output_type": "stream",
     "text": [
      "Epoch 0 completed out of 10 Loss: 0.951444625854\n",
      "Epoch 1 completed out of 10 Loss: 1.5514446497\n",
      "Epoch 2 completed out of 10 Loss: 0.751444637775\n",
      "Epoch 3 completed out of 10 Loss: 1.15144467354\n",
      "Epoch 4 completed out of 10 Loss: 1.15144467354\n",
      "Epoch 5 completed out of 10 Loss: 1.15144467354\n",
      "Epoch 6 completed out of 10 Loss: 0.951444625854\n",
      "Epoch 7 completed out of 10 Loss: 0.951444625854\n",
      "Epoch 8 completed out of 10 Loss: 0.951444625854\n",
      "Epoch 9 completed out of 10 Loss: 1.15144467354\n"
     ]
    }
   ],
   "source": [
    "# Collect data from \"Dataset/\", shuffle, and split it into training, validation & testing set.\n",
    "data_size, train_img, train_labels, val_img, val_labels, test_img, test_labels = collect_split_data()\n",
    "\n",
    "# Creates train.tfrecords, val.tfrecords & test.tfrecords\n",
    "create_tfrecords(train_img, train_labels, val_img, val_labels, test_img, test_labels)\n",
    "\n",
    "# Training of CNN\n",
    "train_cnn(data_size*TRAIN_VAL_TEST['train'])"
   ]
  }
 ],
 "metadata": {
  "kernelspec": {
   "display_name": "Python 3",
   "language": "python",
   "name": "python3"
  },
  "language_info": {
   "codemirror_mode": {
    "name": "ipython",
    "version": 3
   },
   "file_extension": ".py",
   "mimetype": "text/x-python",
   "name": "python",
   "nbconvert_exporter": "python",
   "pygments_lexer": "ipython3",
   "version": "3.6.3"
  }
 },
 "nbformat": 4,
 "nbformat_minor": 2
}
