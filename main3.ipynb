{
 "cells": [
  {
   "cell_type": "markdown",
   "metadata": {},
   "source": [
    "# To Do"
   ]
  },
  {
   "cell_type": "code",
   "execution_count": 1,
   "metadata": {
    "collapsed": true
   },
   "outputs": [],
   "source": [
    "# 1. Change collect_data() to implement the following dataset structure,\n",
    "# Dataset -> Compost -> one.jpg, two.jpg, ...\n",
    "#            Landfill -> one.jpg, two.jpg, ...\n",
    "\n",
    "# 2. Check if cnn_model() -> layer2 = create_new_conv_layer(..., NUM_FILTERS*2, ...) is correct\n",
    "# 3. Change constants in cnn_model() -> fully connected layer"
   ]
  },
  {
   "cell_type": "code",
   "execution_count": 2,
   "metadata": {
    "collapsed": true
   },
   "outputs": [],
   "source": [
    "import glob\n",
    "import cv2\n",
    "import sys\n",
    "import numpy as np\n",
    "import tensorflow as tf\n",
    "import matplotlib.pyplot as plt \n",
    "from PIL import Image\n",
    "from random import shuffle"
   ]
  },
  {
   "cell_type": "markdown",
   "metadata": {},
   "source": [
    "# Parameters"
   ]
  },
  {
   "cell_type": "code",
   "execution_count": 3,
   "metadata": {
    "collapsed": true
   },
   "outputs": [],
   "source": [
    "DATASET_PATH = \"Dataset/**/*.jpg\"\n",
    "CLASS_LABELS = ['compost', 'landfill', 'recyclable']\n",
    "TRAIN_VAL_TEST = {'train': 0.6, 'val': 0.8, 'test': 1} # Train: 60%, Val: 20%, Test: 20%\n",
    "\n",
    "IMAGE_RESIZE_SHAPE = (28, 28)\n",
    "IMAGE_RESIZE_SHAPE_LIST = [28, 28, 3]\n",
    "IMAGE_SIZE = 28\n",
    "NUM_CHANNELS = 3 # RGB\n",
    "NUM_CLASSES = 3 # Compost, Landfill & Recyclable\n",
    "NUM_EPOCHS = 5\n",
    "BATCH_SIZE = 5\n",
    "NUM_FILTERS = 32\n",
    "FILTER_SHAPE = [5, 5]\n",
    "POOL_SHAPE = [2, 2]"
   ]
  },
  {
   "cell_type": "markdown",
   "metadata": {},
   "source": [
    "# Collect & Split Data"
   ]
  },
  {
   "cell_type": "code",
   "execution_count": 4,
   "metadata": {
    "collapsed": true
   },
   "outputs": [],
   "source": [
    "def collect_split_data():\n",
    "    \n",
    "    labels = []\n",
    "    \n",
    "    files = glob.glob(DATASET_PATH)\n",
    "    for file in files:\n",
    "        if CLASS_LABELS[0] in file:\n",
    "            labels.append(0)\n",
    "        elif CLASS_LABELS[1] in file:\n",
    "            labels.append(1)\n",
    "        elif CLASS_LABELS[2] in file:\n",
    "            labels.append(2)\n",
    "        else:\n",
    "            print(\"Error: Image filename does not contain correct label.\")\n",
    "\n",
    "    c = list(zip(files, labels))\n",
    "    shuffle(c)\n",
    "    files, labels = zip(*c)\n",
    "    \n",
    "    train_img = files[0:int(TRAIN_VAL_TEST['train'] * len(files))]\n",
    "    train_labels = labels[0:int(TRAIN_VAL_TEST['train'] * len(files))]\n",
    "    val_img = files[int(TRAIN_VAL_TEST['train'] * len(files)) : int(TRAIN_VAL_TEST['val'] * len(files))]\n",
    "    val_labels = labels[int(TRAIN_VAL_TEST['train'] * len(files)) : int(TRAIN_VAL_TEST['val'] * len(files))]\n",
    "    test_img = files[int(TRAIN_VAL_TEST['val'] * len(files)):]\n",
    "    test_labels = labels[int(TRAIN_VAL_TEST['val'] * len(files)):]\n",
    "    \n",
    "    return train_img, train_labels, len(train_labels), val_img, val_labels, test_img, test_labels"
   ]
  },
  {
   "cell_type": "markdown",
   "metadata": {},
   "source": [
    "# Write data to tfrecords file"
   ]
  },
  {
   "cell_type": "code",
   "execution_count": 5,
   "metadata": {
    "collapsed": true
   },
   "outputs": [],
   "source": [
    "def load_image(addr):\n",
    "    # Read, resize and convert to RGB (since cv2 loads images as BGR)\n",
    "    img = Image.open(addr)\n",
    "    img = cv2.imread(addr)\n",
    "    img = cv2.resize(img, IMAGE_RESIZE_SHAPE, interpolation=cv2.INTER_CUBIC)\n",
    "    img = cv2.cvtColor(img, cv2.COLOR_BGR2RGB)\n",
    "    img = img.astype(np.float32)\n",
    "    return img\n",
    "\n",
    "def _int64_feature(value):\n",
    "    return tf.train.Feature(int64_list=tf.train.Int64List(value=[value]))\n",
    "\n",
    "def _bytes_feature(value):\n",
    "    return tf.train.Feature(bytes_list=tf.train.BytesList(value=[value]))\n",
    "\n",
    "def create_tfrecord(files, labels, train_val_test):\n",
    "        \n",
    "    # Open .tfrecords file\n",
    "    writer = tf.python_io.TFRecordWriter(train_val_test+'.tfrecords')\n",
    "    \n",
    "    for i in range(len(files)):\n",
    "    \n",
    "        # Load image and its label\n",
    "        img = load_image(files[i])\n",
    "        label = labels[i]\n",
    "\n",
    "        # Create a feature\n",
    "        feature = { train_val_test+'/label': _int64_feature(label),\n",
    "                    train_val_test+'/image': _bytes_feature(tf.compat.as_bytes(img.tobytes()))}\n",
    "\n",
    "        # Create an example protocol buffer\n",
    "        example = tf.train.Example(features=tf.train.Features(feature=feature))\n",
    "\n",
    "        # Serialize to string and write to file\n",
    "        writer.write(example.SerializeToString())\n",
    "    \n",
    "    writer.close()\n",
    "    sys.stdout.flush()\n",
    "\n",
    "def create_tfrecords(train_img, train_labels, val_img, val_labels, test_img, test_labels):\n",
    "    \n",
    "    create_tfrecord(train_img, train_labels, 'train')\n",
    "    create_tfrecord(val_img, val_labels, 'val')\n",
    "    create_tfrecord(test_img, test_labels, 'test')"
   ]
  },
  {
   "cell_type": "markdown",
   "metadata": {},
   "source": [
    "# Read data from tfrecords file"
   ]
  },
  {
   "cell_type": "code",
   "execution_count": 6,
   "metadata": {
    "collapsed": true
   },
   "outputs": [],
   "source": [
    "def read_from_tfrecords(train_val_test):\n",
    "    \n",
    "    file = glob.glob(train_val_test+'.tfrecords')\n",
    "    \n",
    "    if (not file):\n",
    "        print(\"Error: train.tfrecords does not exist in current directory.\")\n",
    "    else:\n",
    "        feature = { train_val_test+'/image': tf.FixedLenFeature([], tf.string),\n",
    "                    train_val_test+'/label': tf.FixedLenFeature([], tf.int64) }\n",
    "\n",
    "        # Enqueue train.tfrecords\n",
    "        filename_queue = tf.train.string_input_producer(file, num_epochs=1)\n",
    "\n",
    "        # Define reader and read file from queue\n",
    "        reader = tf.TFRecordReader()\n",
    "        _, serialized_example = reader.read(filename_queue)\n",
    "\n",
    "        # Decode the record read by the reader\n",
    "        features = tf.parse_single_example(serialized_example, features=feature)\n",
    "\n",
    "        # Convert serialized data back to arrays and numbers\n",
    "        image = tf.decode_raw(features[train_val_test+'/image'], tf.float32)\n",
    "        label = tf.cast(features[train_val_test+'/label'], tf.int32)\n",
    "        \n",
    "        # Reshape image data to original shape\n",
    "        image = tf.reshape(image, IMAGE_RESIZE_SHAPE_LIST)\n",
    "        \n",
    "        return image, label"
   ]
  },
  {
   "cell_type": "markdown",
   "metadata": {},
   "source": [
    "# Convolutional Neural Network Model"
   ]
  },
  {
   "cell_type": "code",
   "execution_count": 7,
   "metadata": {
    "collapsed": true
   },
   "outputs": [],
   "source": [
    "def create_new_conv_layer(input_data, num_input_channels, num_filters, filter_shape, pool_shape, name):\n",
    "    \n",
    "    # Setup the filter input shape for tf.nn.conv_2d\n",
    "    conv_filt_shape = [filter_shape[0], filter_shape[1], num_input_channels, num_filters]\n",
    "\n",
    "    # Initialise weights and bias for the filter\n",
    "    weights = tf.Variable(tf.truncated_normal(conv_filt_shape, stddev=0.03), name=name+'_W')\n",
    "    bias = tf.Variable(tf.truncated_normal([num_filters]), name=name+'_b')\n",
    "\n",
    "    # Setup the convolutional layer operation\n",
    "    out_layer = tf.nn.conv2d(input_data, weights, [1, 1, 1, 1], padding='SAME')\n",
    "    \n",
    "    # Add the bias\n",
    "    out_layer += bias\n",
    "\n",
    "    # Apply a ReLU non-linear activation\n",
    "    out_layer = tf.nn.relu(out_layer)\n",
    "\n",
    "    # now perform max pooling\n",
    "    # ksize is the argument which defines the size of the max pooling window (i.e. the area over which the maximum is\n",
    "    # calculated).  It must be 4D to match the convolution - in this case, for each image we want to use a 2 x 2 area\n",
    "    # applied to each channel\n",
    "    ksize = [1, pool_shape[0], pool_shape[1], 1]\n",
    "    # strides defines how the max pooling area moves through the image - a stride of 2 in the x direction will lead to\n",
    "    # max pooling areas starting at x=0, x=2, x=4 etc. through your image.  If the stride is 1, we will get max pooling\n",
    "    # overlapping previous max pooling areas (and no reduction in the number of parameters).  In this case, we want\n",
    "    # to do strides of 2 in the x and y directions.\n",
    "    strides = [1, 2, 2, 1]\n",
    "    out_layer = tf.nn.max_pool(out_layer, ksize=ksize, strides=strides, padding='SAME')\n",
    "\n",
    "    return out_layer\n",
    "\n",
    "\n",
    "def cnn_model(x):\n",
    "    layer1 = create_new_conv_layer(x, NUM_CHANNELS, NUM_FILTERS, FILTER_SHAPE, POOL_SHAPE, name='layer1')\n",
    "    layer2 = create_new_conv_layer(layer1, NUM_FILTERS, NUM_FILTERS*2, \n",
    "                                   FILTER_SHAPE, POOL_SHAPE, name='layer2') \n",
    "\n",
    "    \n",
    "    # flatten the output ready for the fully connected output stage - after two layers of stride 2 pooling, we go\n",
    "    # from 28 x 28, to 14 x 14 to 7 x 7 x,y co-ordinates, but with 64 output channels.  To create the fully connected,\n",
    "    # \"dense\" layer, the new shape needs to be [-1, 7 x 7 x 64]\n",
    "    flattened = tf.reshape(layer2, [-1, 7 * 7 * 64])\n",
    "\n",
    "    # setup some weights and bias values for this layer, then activate with ReLU\n",
    "    wd1 = tf.Variable(tf.truncated_normal([7 * 7 * 64, 1000], stddev=0.03), name='wd1')\n",
    "    bd1 = tf.Variable(tf.truncated_normal([1000], stddev=0.01), name='bd1')\n",
    "    dense_layer1 = tf.matmul(flattened, wd1) + bd1\n",
    "    dense_layer1 = tf.nn.relu(dense_layer1)\n",
    "\n",
    "    # another layer with softmax activations\n",
    "    wd2 = tf.Variable(tf.truncated_normal([1000, NUM_CLASSES], stddev=0.03), name='wd2')\n",
    "    bd2 = tf.Variable(tf.truncated_normal([NUM_CLASSES], stddev=0.01), name='bd2')\n",
    "    dense_layer2 = tf.matmul(dense_layer1, wd2) + bd2\n",
    "    y_ = tf.nn.softmax(dense_layer2)\n",
    "\n",
    "    return y_"
   ]
  },
  {
   "cell_type": "markdown",
   "metadata": {},
   "source": [
    "# Training Convolutional Neural Network"
   ]
  },
  {
   "cell_type": "code",
   "execution_count": 8,
   "metadata": {
    "collapsed": true
   },
   "outputs": [],
   "source": [
    "def train_cnn(train_size):\n",
    "    \n",
    "#     y = tf.placeholder(tf.float32, [BATCH_SIZE, NUM_CLASSES])\n",
    "    \n",
    "    images, labels = read_from_tfrecords('train')\n",
    "    \n",
    "    with tf.Session() as sess:\n",
    "        \n",
    "        sess.run(tf.global_variables_initializer())\n",
    "        for epoch in range(NUM_EPOCHS):\n",
    "            epoch_loss = 0\n",
    "            for _ in range(int(train_size/BATCH_SIZE)):\n",
    "                epoch_x, epoch_y = tf.train.shuffle_batch([images, labels], batch_size=BATCH_SIZE, capacity=10, \n",
    "                                                          num_threads=2, min_after_dequeue=5)\n",
    "                \n",
    "                prediction = cnn_model(epoch_x)\n",
    "                print(\"prediction: \", prediction.get_shape())\n",
    "                print(\"epoch_y: \", epoch_y.get_shape())\n",
    "                cost = tf.reduce_mean(tf.nn.softmax_cross_entropy_with_logits_v2(logits=prediction, \n",
    "                                                                                 labels=tf.one_hot(epoch_y, 3)))\n",
    "                optimizer = tf.train.AdamOptimizer().minimize(cost)\n",
    "                epoch_loss += cost\n",
    "                \n",
    "            print('Epoch ', epoch, ' completed out of ', NUM_EPOCHS, '. Loss: ', epoch_loss)"
   ]
  },
  {
   "cell_type": "markdown",
   "metadata": {},
   "source": [
    "# Main"
   ]
  },
  {
   "cell_type": "code",
   "execution_count": 9,
   "metadata": {},
   "outputs": [
    {
     "ename": "TypeError",
     "evalue": "Value passed to parameter 'indices' has DataType float32 not in list of allowed values: uint8, int32, int64",
     "output_type": "error",
     "traceback": [
      "\u001b[0;31m---------------------------------------------------------------------------\u001b[0m",
      "\u001b[0;31mTypeError\u001b[0m                                 Traceback (most recent call last)",
      "\u001b[0;32m<ipython-input-9-85896241ecd8>\u001b[0m in \u001b[0;36m<module>\u001b[0;34m()\u001b[0m\n\u001b[1;32m      6\u001b[0m \u001b[0;34m\u001b[0m\u001b[0m\n\u001b[1;32m      7\u001b[0m \u001b[0;31m# Training of CNN\u001b[0m\u001b[0;34m\u001b[0m\u001b[0;34m\u001b[0m\u001b[0m\n\u001b[0;32m----> 8\u001b[0;31m \u001b[0mtrain_cnn\u001b[0m\u001b[0;34m(\u001b[0m\u001b[0mtrain_size\u001b[0m\u001b[0;34m)\u001b[0m\u001b[0;34m\u001b[0m\u001b[0m\n\u001b[0m",
      "\u001b[0;32m<ipython-input-8-8ff1594b4437>\u001b[0m in \u001b[0;36mtrain_cnn\u001b[0;34m(train_size)\u001b[0m\n\u001b[1;32m     14\u001b[0m                                                           num_threads=2, min_after_dequeue=5)\n\u001b[1;32m     15\u001b[0m \u001b[0;34m\u001b[0m\u001b[0m\n\u001b[0;32m---> 16\u001b[0;31m                 \u001b[0mprediction\u001b[0m \u001b[0;34m=\u001b[0m \u001b[0mcnn_model\u001b[0m\u001b[0;34m(\u001b[0m\u001b[0mepoch_x\u001b[0m\u001b[0;34m)\u001b[0m\u001b[0;34m\u001b[0m\u001b[0m\n\u001b[0m\u001b[1;32m     17\u001b[0m                 \u001b[0mprint\u001b[0m\u001b[0;34m(\u001b[0m\u001b[0;34m\"prediction: \"\u001b[0m\u001b[0;34m,\u001b[0m \u001b[0mprediction\u001b[0m\u001b[0;34m.\u001b[0m\u001b[0mget_shape\u001b[0m\u001b[0;34m(\u001b[0m\u001b[0;34m)\u001b[0m\u001b[0;34m)\u001b[0m\u001b[0;34m\u001b[0m\u001b[0m\n\u001b[1;32m     18\u001b[0m                 \u001b[0mprint\u001b[0m\u001b[0;34m(\u001b[0m\u001b[0;34m\"epoch_y: \"\u001b[0m\u001b[0;34m,\u001b[0m \u001b[0mepoch_y\u001b[0m\u001b[0;34m.\u001b[0m\u001b[0mget_shape\u001b[0m\u001b[0;34m(\u001b[0m\u001b[0;34m)\u001b[0m\u001b[0;34m)\u001b[0m\u001b[0;34m\u001b[0m\u001b[0m\n",
      "\u001b[0;32m<ipython-input-7-7172feb56e29>\u001b[0m in \u001b[0;36mcnn_model\u001b[0;34m(x)\u001b[0m\n\u001b[1;32m     55\u001b[0m     \u001b[0my_\u001b[0m \u001b[0;34m=\u001b[0m \u001b[0mtf\u001b[0m\u001b[0;34m.\u001b[0m\u001b[0mnn\u001b[0m\u001b[0;34m.\u001b[0m\u001b[0msoftmax\u001b[0m\u001b[0;34m(\u001b[0m\u001b[0mdense_layer2\u001b[0m\u001b[0;34m)\u001b[0m\u001b[0;34m\u001b[0m\u001b[0m\n\u001b[1;32m     56\u001b[0m \u001b[0;34m\u001b[0m\u001b[0m\n\u001b[0;32m---> 57\u001b[0;31m     \u001b[0;32mreturn\u001b[0m \u001b[0mtf\u001b[0m\u001b[0;34m.\u001b[0m\u001b[0mone_hot\u001b[0m\u001b[0;34m(\u001b[0m\u001b[0my_\u001b[0m\u001b[0;34m,\u001b[0m \u001b[0;36m3\u001b[0m\u001b[0;34m)\u001b[0m\u001b[0;34m\u001b[0m\u001b[0m\n\u001b[0m\u001b[1;32m     58\u001b[0m \u001b[0;31m#     return y_\u001b[0m\u001b[0;34m\u001b[0m\u001b[0;34m\u001b[0m\u001b[0m\n",
      "\u001b[0;32m~/anaconda3/lib/python3.6/site-packages/tensorflow/python/ops/array_ops.py\u001b[0m in \u001b[0;36mone_hot\u001b[0;34m(indices, depth, on_value, off_value, axis, dtype, name)\u001b[0m\n\u001b[1;32m   2362\u001b[0m \u001b[0;34m\u001b[0m\u001b[0m\n\u001b[1;32m   2363\u001b[0m     return gen_array_ops._one_hot(indices, depth, on_value, off_value, axis,\n\u001b[0;32m-> 2364\u001b[0;31m                                   name)\n\u001b[0m\u001b[1;32m   2365\u001b[0m \u001b[0;34m\u001b[0m\u001b[0m\n\u001b[1;32m   2366\u001b[0m \u001b[0;34m\u001b[0m\u001b[0m\n",
      "\u001b[0;32m~/anaconda3/lib/python3.6/site-packages/tensorflow/python/ops/gen_array_ops.py\u001b[0m in \u001b[0;36m_one_hot\u001b[0;34m(indices, depth, on_value, off_value, axis, name)\u001b[0m\n\u001b[1;32m   2829\u001b[0m     _, _, _op = _op_def_lib._apply_op_helper(\n\u001b[1;32m   2830\u001b[0m         \u001b[0;34m\"OneHot\"\u001b[0m\u001b[0;34m,\u001b[0m \u001b[0mindices\u001b[0m\u001b[0;34m=\u001b[0m\u001b[0mindices\u001b[0m\u001b[0;34m,\u001b[0m \u001b[0mdepth\u001b[0m\u001b[0;34m=\u001b[0m\u001b[0mdepth\u001b[0m\u001b[0;34m,\u001b[0m \u001b[0mon_value\u001b[0m\u001b[0;34m=\u001b[0m\u001b[0mon_value\u001b[0m\u001b[0;34m,\u001b[0m\u001b[0;34m\u001b[0m\u001b[0m\n\u001b[0;32m-> 2831\u001b[0;31m         off_value=off_value, axis=axis, name=name)\n\u001b[0m\u001b[1;32m   2832\u001b[0m     \u001b[0m_result\u001b[0m \u001b[0;34m=\u001b[0m \u001b[0m_op\u001b[0m\u001b[0;34m.\u001b[0m\u001b[0moutputs\u001b[0m\u001b[0;34m[\u001b[0m\u001b[0;34m:\u001b[0m\u001b[0;34m]\u001b[0m\u001b[0;34m\u001b[0m\u001b[0m\n\u001b[1;32m   2833\u001b[0m     \u001b[0m_inputs_flat\u001b[0m \u001b[0;34m=\u001b[0m \u001b[0m_op\u001b[0m\u001b[0;34m.\u001b[0m\u001b[0minputs\u001b[0m\u001b[0;34m\u001b[0m\u001b[0m\n",
      "\u001b[0;32m~/anaconda3/lib/python3.6/site-packages/tensorflow/python/framework/op_def_library.py\u001b[0m in \u001b[0;36m_apply_op_helper\u001b[0;34m(self, op_type_name, name, **keywords)\u001b[0m\n\u001b[1;32m    607\u001b[0m               _SatisfiesTypeConstraint(base_type,\n\u001b[1;32m    608\u001b[0m                                        \u001b[0m_Attr\u001b[0m\u001b[0;34m(\u001b[0m\u001b[0mop_def\u001b[0m\u001b[0;34m,\u001b[0m \u001b[0minput_arg\u001b[0m\u001b[0;34m.\u001b[0m\u001b[0mtype_attr\u001b[0m\u001b[0;34m)\u001b[0m\u001b[0;34m,\u001b[0m\u001b[0;34m\u001b[0m\u001b[0m\n\u001b[0;32m--> 609\u001b[0;31m                                        param_name=input_name)\n\u001b[0m\u001b[1;32m    610\u001b[0m             \u001b[0mattrs\u001b[0m\u001b[0;34m[\u001b[0m\u001b[0minput_arg\u001b[0m\u001b[0;34m.\u001b[0m\u001b[0mtype_attr\u001b[0m\u001b[0;34m]\u001b[0m \u001b[0;34m=\u001b[0m \u001b[0mattr_value\u001b[0m\u001b[0;34m\u001b[0m\u001b[0m\n\u001b[1;32m    611\u001b[0m             \u001b[0minferred_from\u001b[0m\u001b[0;34m[\u001b[0m\u001b[0minput_arg\u001b[0m\u001b[0;34m.\u001b[0m\u001b[0mtype_attr\u001b[0m\u001b[0;34m]\u001b[0m \u001b[0;34m=\u001b[0m \u001b[0minput_name\u001b[0m\u001b[0;34m\u001b[0m\u001b[0m\n",
      "\u001b[0;32m~/anaconda3/lib/python3.6/site-packages/tensorflow/python/framework/op_def_library.py\u001b[0m in \u001b[0;36m_SatisfiesTypeConstraint\u001b[0;34m(dtype, attr_def, param_name)\u001b[0m\n\u001b[1;32m     58\u001b[0m           \u001b[0;34m\"allowed values: %s\"\u001b[0m \u001b[0;34m%\u001b[0m\u001b[0;34m\u001b[0m\u001b[0m\n\u001b[1;32m     59\u001b[0m           (param_name, dtypes.as_dtype(dtype).name,\n\u001b[0;32m---> 60\u001b[0;31m            \", \".join(dtypes.as_dtype(x).name for x in allowed_list)))\n\u001b[0m\u001b[1;32m     61\u001b[0m \u001b[0;34m\u001b[0m\u001b[0m\n\u001b[1;32m     62\u001b[0m \u001b[0;34m\u001b[0m\u001b[0m\n",
      "\u001b[0;31mTypeError\u001b[0m: Value passed to parameter 'indices' has DataType float32 not in list of allowed values: uint8, int32, int64"
     ]
    }
   ],
   "source": [
    "# Collect data from \"Dataset/\", shuffle, and split it into training, validation & testing set.\n",
    "train_img, train_labels, train_size, val_img, val_labels, test_img, test_labels = collect_split_data()\n",
    "\n",
    "# Creates train.tfrecords, val.tfrecords & test.tfrecords\n",
    "create_tfrecords(train_img, train_labels, val_img, val_labels, test_img, test_labels)\n",
    "\n",
    "# Training of CNN\n",
    "train_cnn(train_size)"
   ]
  }
 ],
 "metadata": {
  "kernelspec": {
   "display_name": "Python 3",
   "language": "python",
   "name": "python3"
  },
  "language_info": {
   "codemirror_mode": {
    "name": "ipython",
    "version": 3
   },
   "file_extension": ".py",
   "mimetype": "text/x-python",
   "name": "python",
   "nbconvert_exporter": "python",
   "pygments_lexer": "ipython3",
   "version": "3.6.3"
  }
 },
 "nbformat": 4,
 "nbformat_minor": 2
}
