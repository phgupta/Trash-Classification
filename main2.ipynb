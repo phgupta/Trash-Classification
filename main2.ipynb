{
 "cells": [
  {
   "cell_type": "markdown",
   "metadata": {},
   "source": [
    "# To Do"
   ]
  },
  {
   "cell_type": "code",
   "execution_count": 1,
   "metadata": {
    "collapsed": true
   },
   "outputs": [],
   "source": [
    "# 1. Change collect_split_data() to implement the following dataset structure,\n",
    "# Dataset -> Compost -> one.jpg, two.jpg, ...\n",
    "#            Landfill -> one.jpg, two.jpg, ...\n",
    "# 2. Check if cnn_model() -> layer2 = create_new_conv_layer(..., NUM_FILTERS*2, ...) is correct\n",
    "# 3. Change constants in cnn_model() -> fully connected layer\n",
    "# 4. Change IMAGE_SIZE_RESHAPE\n",
    "# 5. Use \"build_image_data.py\" for sharding the .tfrecords file\n",
    "# 6. Change structure of code - https://danijar.com/structuring-your-tensorflow-models/\n",
    "# 7. Add GPU support"
   ]
  },
  {
   "cell_type": "code",
   "execution_count": 2,
   "metadata": {
    "collapsed": true
   },
   "outputs": [],
   "source": [
    "import glob\n",
    "import cv2\n",
    "import sys\n",
    "import numpy as np\n",
    "import tensorflow as tf\n",
    "import matplotlib.pyplot as plt \n",
    "from PIL import Image\n",
    "from random import shuffle"
   ]
  },
  {
   "cell_type": "markdown",
   "metadata": {},
   "source": [
    "# Constants"
   ]
  },
  {
   "cell_type": "code",
   "execution_count": 3,
   "metadata": {
    "collapsed": true
   },
   "outputs": [],
   "source": [
    "DATASET_PATH = \"Dataset/**/*.jpg\"\n",
    "TRAIN_VAL_TEST = {'train': 0.6, 'val': 0.8, 'test': 1} # Train: 60%, Val: 20%, Test: 20%\n",
    "NUM_CHANNELS = 3 # RGB\n",
    "\n",
    "IMAGE_SIZE = 256\n",
    "IMAGE_RESIZE_SHAPE = (IMAGE_SIZE, IMAGE_SIZE)\n",
    "IMAGE_RESIZE_SHAPE_LIST = [IMAGE_SIZE, IMAGE_SIZE, NUM_CHANNELS]\n",
    "\n",
    "CLASS_LABELS = ['compost', 'landfill', 'recyclable']\n",
    "NUM_CLASSES = 3 # Compost, Landfill & Recyclable\n",
    "\n",
    "NUM_EPOCHS = 5\n",
    "BATCH_SIZE = 5\n",
    "\n",
    "# NUM_FILTERS = 32\n",
    "# FILTER_SHAPE = [5, 5]\n",
    "# POOL_SHAPE = [2, 2]"
   ]
  },
  {
   "cell_type": "markdown",
   "metadata": {},
   "source": [
    "# Collect & Split Data"
   ]
  },
  {
   "cell_type": "code",
   "execution_count": 4,
   "metadata": {
    "collapsed": true
   },
   "outputs": [],
   "source": [
    "def collect_split_data():\n",
    "    \n",
    "    labels = []\n",
    "    \n",
    "    files = glob.glob(DATASET_PATH)\n",
    "    for file in files:\n",
    "        if CLASS_LABELS[0] in file:\n",
    "            labels.append(0)\n",
    "        elif CLASS_LABELS[1] in file:\n",
    "            labels.append(1)\n",
    "        elif CLASS_LABELS[2] in file:\n",
    "            labels.append(2)\n",
    "        else:\n",
    "            print(\"Error: Image filename does not contain correct label.\")\n",
    "                 \n",
    "    c = list(zip(files, labels))\n",
    "    shuffle(c)\n",
    "    files, labels = zip(*c)\n",
    "    \n",
    "    train_img = files[0:int(TRAIN_VAL_TEST['train'] * len(files))]\n",
    "    train_labels = labels[0:int(TRAIN_VAL_TEST['train'] * len(files))]\n",
    "    val_img = files[int(TRAIN_VAL_TEST['train'] * len(files)) : int(TRAIN_VAL_TEST['val'] * len(files))]\n",
    "    val_labels = labels[int(TRAIN_VAL_TEST['train'] * len(files)) : int(TRAIN_VAL_TEST['val'] * len(files))]\n",
    "    test_img = files[int(TRAIN_VAL_TEST['val'] * len(files)):]\n",
    "    test_labels = labels[int(TRAIN_VAL_TEST['val'] * len(files)):]\n",
    "        \n",
    "    return len(files), train_img, train_labels, val_img, val_labels, test_img, test_labels"
   ]
  },
  {
   "cell_type": "markdown",
   "metadata": {},
   "source": [
    "# Write data to tfrecords file"
   ]
  },
  {
   "cell_type": "code",
   "execution_count": 5,
   "metadata": {
    "collapsed": true
   },
   "outputs": [],
   "source": [
    "def load_image(addr):\n",
    "    # Read, resize and convert to RGB (since cv2 loads images as BGR)\n",
    "    img = Image.open(addr)\n",
    "    img = cv2.imread(addr)\n",
    "    img = cv2.resize(img, IMAGE_RESIZE_SHAPE, interpolation=cv2.INTER_CUBIC)\n",
    "    img = cv2.cvtColor(img, cv2.COLOR_BGR2RGB)\n",
    "    img = img.astype(np.float32)\n",
    "    return img\n",
    "\n",
    "def _int64_feature(value):\n",
    "    return tf.train.Feature(int64_list=tf.train.Int64List(value=[value]))\n",
    "\n",
    "def _bytes_feature(value):\n",
    "    return tf.train.Feature(bytes_list=tf.train.BytesList(value=[value]))\n",
    "\n",
    "def create_tfrecord(files, labels, train_val_test):\n",
    "        \n",
    "    # Open .tfrecords file\n",
    "    writer = tf.python_io.TFRecordWriter(train_val_test+'.tfrecords')\n",
    "    \n",
    "    for i in range(len(files)):\n",
    "    \n",
    "        # Load image and its label\n",
    "        img = load_image(files[i])\n",
    "        label = labels[i]\n",
    "\n",
    "        # Create a feature\n",
    "        feature = { train_val_test+'/label': _int64_feature(label),\n",
    "                    train_val_test+'/image': _bytes_feature(tf.compat.as_bytes(img.tobytes()))}\n",
    "\n",
    "        # Create an example protocol buffer\n",
    "        example = tf.train.Example(features=tf.train.Features(feature=feature))\n",
    "\n",
    "        # Serialize to string and write to file\n",
    "        writer.write(example.SerializeToString())\n",
    "    \n",
    "    writer.close()\n",
    "    sys.stdout.flush()\n",
    "\n",
    "def create_tfrecords(train_img, train_labels, val_img, val_labels, test_img, test_labels):\n",
    "    \n",
    "    create_tfrecord(train_img, train_labels, 'train')\n",
    "    create_tfrecord(val_img, val_labels, 'val')\n",
    "    create_tfrecord(test_img, test_labels, 'test')"
   ]
  },
  {
   "cell_type": "markdown",
   "metadata": {},
   "source": [
    "# Read data from tfrecords file"
   ]
  },
  {
   "cell_type": "code",
   "execution_count": 6,
   "metadata": {
    "collapsed": true
   },
   "outputs": [],
   "source": [
    "def read_from_tfrecords(train_val_test):\n",
    "    \n",
    "    file = glob.glob(train_val_test+'.tfrecords')\n",
    "    \n",
    "\n",
    "    feature = { train_val_test+'/image': tf.FixedLenFeature([], tf.string),\n",
    "                train_val_test+'/label': tf.FixedLenFeature([], tf.int64) }\n",
    "\n",
    "    # Enqueue train.tfrecords\n",
    "    filename_queue = tf.train.string_input_producer(file, num_epochs=None)\n",
    "\n",
    "    # Define reader and read file from queue\n",
    "    reader = tf.TFRecordReader()\n",
    "    _, serialized_example = reader.read(filename_queue)\n",
    "\n",
    "    # Decode the record read by the reader\n",
    "    features = tf.parse_single_example(serialized_example, features=feature)\n",
    "    \n",
    "    # Convert serialized data back to arrays and numbers\n",
    "    image = tf.decode_raw(features[train_val_test+'/image'], tf.float32)\n",
    "    label = tf.cast(features[train_val_test+'/label'], tf.int32)\n",
    "    \n",
    "    # Reshape image data to original shape\n",
    "    image = tf.reshape(image, IMAGE_RESIZE_SHAPE_LIST)\n",
    "    \n",
    "    image_batch, label_batch = tf.train.shuffle_batch([image, label], batch_size=BATCH_SIZE, capacity=10, \n",
    "                                                          num_threads=2, min_after_dequeue=2)\n",
    "    \n",
    "    return image_batch, label_batch"
   ]
  },
  {
   "cell_type": "markdown",
   "metadata": {},
   "source": [
    "# Convolutional Neural Network Model"
   ]
  },
  {
   "cell_type": "code",
   "execution_count": 7,
   "metadata": {
    "collapsed": true
   },
   "outputs": [],
   "source": [
    "def create_new_conv_layer(input_data, num_input_channels, num_filters, filter_shape, pool_shape, name):\n",
    "    \n",
    "    # Setup the filter input shape for tf.nn.conv_2d\n",
    "    conv_filt_shape = [filter_shape[0], filter_shape[1], num_input_channels, num_filters]\n",
    "\n",
    "    # Initialise weights and bias for the filter\n",
    "    weights = tf.Variable(tf.truncated_normal(conv_filt_shape, stddev=0.03), name=name+'_W')\n",
    "    bias = tf.Variable(tf.truncated_normal([num_filters]), name=name+'_b')\n",
    "\n",
    "    # Setup the convolutional layer operation\n",
    "    out_layer = tf.nn.conv2d(input_data, weights, [1, 1, 1, 1], padding='SAME')\n",
    "    \n",
    "    # Add the bias\n",
    "    out_layer += bias\n",
    "\n",
    "    # Apply a ReLU non-linear activation\n",
    "    out_layer = tf.nn.relu(out_layer)\n",
    "\n",
    "    ksize = [1, pool_shape[0], pool_shape[1], 1]\n",
    "    strides = [1, 2, 2, 1]\n",
    "    out_layer = tf.nn.max_pool(out_layer, ksize=ksize, strides=strides, padding='SAME')\n",
    "\n",
    "    return out_layer\n",
    "\n",
    "def conv_layers(x):\n",
    "    \n",
    "    # First Layer\n",
    "    w1 = tf.Variable(tf.truncated_normal([11, 11, 3, 96], stddev=0.03))\n",
    "    b1 = tf.Variable(tf.truncated_normal([96]))\n",
    "    conv2d_layer1 = tf.nn.conv2d(x, w1, [1, 4, 4, 1], padding='SAME')\n",
    "    conv2d_layer1 += b1\n",
    "    conv2d_layer1 = tf.nn.relu(conv2d_layer1)\n",
    "    conv2d_layer1 = tf.nn.max_pool(conv2d_layer1, ksize=[1, 3, 3, 1], strides=[1, 2, 2, 1], padding='SAME')\n",
    "    \n",
    "    # Second Layer\n",
    "    w2 = tf.Variable(tf.truncated_normal([5, 5, 96, 192], stddev=0.03))\n",
    "    b2 = tf.Variable(tf.truncated_normal([192]))\n",
    "    conv2d_layer2 = tf.nn.conv2d(conv2d_layer1, w2, [1, 1, 1, 1], padding='SAME')\n",
    "    conv2d_layer2 += b2\n",
    "    conv2d_layer2 = tf.nn.relu(conv2d_layer2)\n",
    "    conv2d_layer2 = tf.nn.max_pool(conv2d_layer2, ksize=[1, 3, 3, 1], strides=[1, 2, 2, 1], padding='SAME')\n",
    "    \n",
    "    # Third Layer\n",
    "    w3 = tf.Variable(tf.truncated_normal([3, 3, 192, 288], stddev=0.03))\n",
    "    b3 = tf.Variable(tf.truncated_normal([288]))\n",
    "    conv2d_layer3 = tf.nn.conv2d(conv2d_layer2, w3, [1, 1, 1, 1], padding='SAME')\n",
    "    conv2d_layer3 += b3\n",
    "    \n",
    "    # Fourth Layer\n",
    "    w4 = tf.Variable(tf.truncated_normal([3, 3, 288, 288], stddev=0.03))\n",
    "    b4 = tf.Variable(tf.truncated_normal([288]))\n",
    "    conv2d_layer4 = tf.nn.conv2d(conv2d_layer3, w4, [1, 1, 1, 1], padding='SAME')\n",
    "    conv2d_layer4 += b4\n",
    "    \n",
    "    # Fifth Layer\n",
    "    w5 = tf.Variable(tf.truncated_normal([3, 3, 288, 192], stddev=0.03))\n",
    "    b5 = tf.Variable(tf.truncated_normal([192]))\n",
    "    conv2d_layer5 = tf.nn.conv2d(conv2d_layer4, w5, [1, 1, 1, 1], padding='SAME')\n",
    "    conv2d_layer5 += b5\n",
    "    conv2d_layer5 = tf.nn.relu(conv2d_layer5)\n",
    "    conv2d_layer5 = tf.nn.max_pool(conv2d_layer5, ksize=[1, 3, 3, 1], strides=[1, 2, 2, 1], padding='SAME')\n",
    "    \n",
    "    return conv2d_layer5\n",
    "\n",
    "\n",
    "def cnn_model(x):\n",
    "    \n",
    "    # Convolution, ReLu & Max Pooling\n",
    "    conv_output_layer = conv_layers(x)\n",
    "    print(conv_output_layer.shape) # (5, 8, 8, 192)\n",
    "    \n",
    "#     layer1 = create_new_conv_layer(x, NUM_CHANNELS, NUM_FILTERS, FILTER_SHAPE, POOL_SHAPE, name='layer1')\n",
    "#     layer2 = create_new_conv_layer(layer1, NUM_FILTERS, NUM_FILTERS*2, \n",
    "#                                    FILTER_SHAPE, POOL_SHAPE, name='layer2') \n",
    "\n",
    "#     flattened = tf.reshape(layer2, [-1, 7 * 7 * 64])\n",
    "\n",
    "#     # Fully connected network\n",
    "#     wd1 = tf.Variable(tf.truncated_normal([7 * 7 * 64, 1000], stddev=0.03), name='wd1')\n",
    "#     bd1 = tf.Variable(tf.truncated_normal([1000], stddev=0.01), name='bd1')\n",
    "#     dense_layer1 = tf.matmul(flattened, wd1) + bd1\n",
    "#     dense_layer1 = tf.nn.relu(dense_layer1)\n",
    "\n",
    "#     # Another layer with softmax activations\n",
    "#     wd2 = tf.Variable(tf.truncated_normal([1000, NUM_CLASSES], stddev=0.03), name='wd2')\n",
    "#     bd2 = tf.Variable(tf.truncated_normal([NUM_CLASSES], stddev=0.01), name='bd2')\n",
    "#     dense_layer2 = tf.matmul(dense_layer1, wd2) + bd2\n",
    "#     y_ = tf.nn.softmax(dense_layer2)\n",
    "\n",
    "#     return y_"
   ]
  },
  {
   "cell_type": "markdown",
   "metadata": {},
   "source": [
    "# Training Convolutional Neural Network"
   ]
  },
  {
   "cell_type": "code",
   "execution_count": 8,
   "metadata": {
    "collapsed": true
   },
   "outputs": [],
   "source": [
    "def train_cnn(train_size):\n",
    "\n",
    "    with tf.Session() as sess:\n",
    "        image, label = read_from_tfrecords('train')\n",
    "        prediction = cnn_model(image)\n",
    "        cost = tf.reduce_mean(tf.nn.softmax_cross_entropy_with_logits_v2(logits=prediction, \n",
    "                                                                        labels=tf.one_hot(label, NUM_CLASSES)))\n",
    "        optimizer = tf.train.AdamOptimizer().minimize(cost)\n",
    "        \n",
    "        coord = tf.train.Coordinator()\n",
    "        threads = tf.train.start_queue_runners(coord=coord)\n",
    "        sess.run(tf.group(tf.global_variables_initializer(), tf.local_variables_initializer()))\n",
    "        \n",
    "        for epoch in range(NUM_EPOCHS):\n",
    "            epoch_loss = 0\n",
    "            for _ in range(int(train_size/BATCH_SIZE)): \n",
    "                c, _ = sess.run([cost, optimizer])\n",
    "                epoch_loss += c\n",
    "                \n",
    "            print('Epoch', epoch, 'completed out of', NUM_EPOCHS, '. Loss:', epoch_loss)\n",
    "         \n",
    "        coord.request_stop()\n",
    "        coord.join(threads)"
   ]
  },
  {
   "cell_type": "markdown",
   "metadata": {},
   "source": [
    "# Main"
   ]
  },
  {
   "cell_type": "code",
   "execution_count": 9,
   "metadata": {},
   "outputs": [
    {
     "name": "stdout",
     "output_type": "stream",
     "text": [
      "(5, 8, 8, 192)\n"
     ]
    },
    {
     "ename": "ValueError",
     "evalue": "Both labels and logits must be provided.",
     "output_type": "error",
     "traceback": [
      "\u001b[0;31m---------------------------------------------------------------------------\u001b[0m",
      "\u001b[0;31mValueError\u001b[0m                                Traceback (most recent call last)",
      "\u001b[0;32m<ipython-input-9-24a520f1d71d>\u001b[0m in \u001b[0;36m<module>\u001b[0;34m()\u001b[0m\n\u001b[1;32m      6\u001b[0m \u001b[0;34m\u001b[0m\u001b[0m\n\u001b[1;32m      7\u001b[0m \u001b[0;31m# Training of CNN\u001b[0m\u001b[0;34m\u001b[0m\u001b[0;34m\u001b[0m\u001b[0m\n\u001b[0;32m----> 8\u001b[0;31m \u001b[0mtrain_cnn\u001b[0m\u001b[0;34m(\u001b[0m\u001b[0mdata_size\u001b[0m\u001b[0;34m*\u001b[0m\u001b[0mTRAIN_VAL_TEST\u001b[0m\u001b[0;34m[\u001b[0m\u001b[0;34m'train'\u001b[0m\u001b[0;34m]\u001b[0m\u001b[0;34m)\u001b[0m\u001b[0;34m\u001b[0m\u001b[0m\n\u001b[0m",
      "\u001b[0;32m<ipython-input-8-1fb8a9ed382c>\u001b[0m in \u001b[0;36mtrain_cnn\u001b[0;34m(train_size)\u001b[0m\n\u001b[1;32m      5\u001b[0m         \u001b[0mprediction\u001b[0m \u001b[0;34m=\u001b[0m \u001b[0mcnn_model\u001b[0m\u001b[0;34m(\u001b[0m\u001b[0mimage\u001b[0m\u001b[0;34m)\u001b[0m\u001b[0;34m\u001b[0m\u001b[0m\n\u001b[1;32m      6\u001b[0m         cost = tf.reduce_mean(tf.nn.softmax_cross_entropy_with_logits_v2(logits=prediction, \n\u001b[0;32m----> 7\u001b[0;31m                                                                         labels=tf.one_hot(label, NUM_CLASSES)))\n\u001b[0m\u001b[1;32m      8\u001b[0m         \u001b[0moptimizer\u001b[0m \u001b[0;34m=\u001b[0m \u001b[0mtf\u001b[0m\u001b[0;34m.\u001b[0m\u001b[0mtrain\u001b[0m\u001b[0;34m.\u001b[0m\u001b[0mAdamOptimizer\u001b[0m\u001b[0;34m(\u001b[0m\u001b[0;34m)\u001b[0m\u001b[0;34m.\u001b[0m\u001b[0mminimize\u001b[0m\u001b[0;34m(\u001b[0m\u001b[0mcost\u001b[0m\u001b[0;34m)\u001b[0m\u001b[0;34m\u001b[0m\u001b[0m\n\u001b[1;32m      9\u001b[0m \u001b[0;34m\u001b[0m\u001b[0m\n",
      "\u001b[0;32m~/anaconda3/lib/python3.6/site-packages/tensorflow/python/ops/nn_ops.py\u001b[0m in \u001b[0;36msoftmax_cross_entropy_with_logits_v2\u001b[0;34m(_sentinel, labels, logits, dim, name)\u001b[0m\n\u001b[1;32m   1761\u001b[0m   \"\"\"\n\u001b[1;32m   1762\u001b[0m   _ensure_xent_args(\"softmax_cross_entropy_with_logits\", _sentinel,\n\u001b[0;32m-> 1763\u001b[0;31m                     labels, logits)\n\u001b[0m\u001b[1;32m   1764\u001b[0m \u001b[0;34m\u001b[0m\u001b[0m\n\u001b[1;32m   1765\u001b[0m   \u001b[0;31m# TODO(pcmurray) Raise an error when the labels do not sum to 1. Note: This\u001b[0m\u001b[0;34m\u001b[0m\u001b[0;34m\u001b[0m\u001b[0m\n",
      "\u001b[0;32m~/anaconda3/lib/python3.6/site-packages/tensorflow/python/ops/nn_ops.py\u001b[0m in \u001b[0;36m_ensure_xent_args\u001b[0;34m(name, sentinel, labels, logits)\u001b[0m\n\u001b[1;32m   1713\u001b[0m                      \"named arguments (labels=..., logits=..., ...)\" % name)\n\u001b[1;32m   1714\u001b[0m   \u001b[0;32mif\u001b[0m \u001b[0mlabels\u001b[0m \u001b[0;32mis\u001b[0m \u001b[0;32mNone\u001b[0m \u001b[0;32mor\u001b[0m \u001b[0mlogits\u001b[0m \u001b[0;32mis\u001b[0m \u001b[0;32mNone\u001b[0m\u001b[0;34m:\u001b[0m\u001b[0;34m\u001b[0m\u001b[0m\n\u001b[0;32m-> 1715\u001b[0;31m     \u001b[0;32mraise\u001b[0m \u001b[0mValueError\u001b[0m\u001b[0;34m(\u001b[0m\u001b[0;34m\"Both labels and logits must be provided.\"\u001b[0m\u001b[0;34m)\u001b[0m\u001b[0;34m\u001b[0m\u001b[0m\n\u001b[0m\u001b[1;32m   1716\u001b[0m \u001b[0;34m\u001b[0m\u001b[0m\n\u001b[1;32m   1717\u001b[0m \u001b[0;34m\u001b[0m\u001b[0m\n",
      "\u001b[0;31mValueError\u001b[0m: Both labels and logits must be provided."
     ]
    }
   ],
   "source": [
    "# Collect data from \"Dataset/\", shuffle, and split it into training, validation & testing set.\n",
    "data_size, train_img, train_labels, val_img, val_labels, test_img, test_labels = collect_split_data()\n",
    "\n",
    "# Creates train.tfrecords, val.tfrecords & test.tfrecords\n",
    "create_tfrecords(train_img, train_labels, val_img, val_labels, test_img, test_labels)\n",
    "\n",
    "# Training of CNN\n",
    "train_cnn(data_size*TRAIN_VAL_TEST['train']) "
   ]
  }
 ],
 "metadata": {
  "kernelspec": {
   "display_name": "Python 3",
   "language": "python",
   "name": "python3"
  },
  "language_info": {
   "codemirror_mode": {
    "name": "ipython",
    "version": 3
   },
   "file_extension": ".py",
   "mimetype": "text/x-python",
   "name": "python",
   "nbconvert_exporter": "python",
   "pygments_lexer": "ipython3",
   "version": "3.6.3"
  }
 },
 "nbformat": 4,
 "nbformat_minor": 2
}
