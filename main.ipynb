{
 "cells": [
  {
   "cell_type": "code",
   "execution_count": 1,
   "metadata": {},
   "outputs": [],
   "source": [
    "import glob\n",
    "import cv2\n",
    "import sys\n",
    "import tensorflow as tf\n",
    "import numpy as np\n",
    "import matplotlib.pyplot as plt \n",
    "from PIL import Image\n",
    "from random import shuffle"
   ]
  },
  {
   "cell_type": "markdown",
   "metadata": {},
   "source": [
    "# Parameters"
   ]
  },
  {
   "cell_type": "code",
   "execution_count": 2,
   "metadata": {},
   "outputs": [],
   "source": [
    "input_data_path = \"Dataset/**/*.jpg\" \n",
    "trash_type = ['compost', 'landfill', 'recyclable'] # Keep 3 types only\n",
    "shuffle_data = True\n",
    "tvt = {'train': 0.6, 'val': 0.8, 'test': 1} # Train: 60%, Val: 20%, Test: 20%\n",
    "\n",
    "train_filename = 'train.tfrecords'\n",
    "val_filename = 'val.tfrecords'\n",
    "test_filename = 'test.tfrecords'\n",
    "resize_image = (224, 224)\n",
    "resize_image_set = [224, 224, 3]\n",
    "\n",
    "IMAGE_HEIGHT = 224\n",
    "IMAGE_WIDTH = 224\n",
    "NUM_CHANNELS = 3 # RGB"
   ]
  },
  {
   "cell_type": "markdown",
   "metadata": {},
   "source": [
    "# Split dataset into training, validation & test set."
   ]
  },
  {
   "cell_type": "code",
   "execution_count": 3,
   "metadata": {
    "collapsed": true
   },
   "outputs": [],
   "source": [
    "def split_data(input_data_path, trash_type, shuffle_data, tvt, return_type):\n",
    "\n",
    "    labels = []\n",
    "    \n",
    "    # Labelling data\n",
    "    files = glob.glob(input_data_path)\n",
    "    for file in files:\n",
    "        if trash_type[0] in file:\n",
    "            labels.append(0)\n",
    "        elif trash_type[1] in file:\n",
    "            labels.append(1)\n",
    "        elif trash_type[2] in file:\n",
    "            labels.append(2)\n",
    "        else:\n",
    "            labels.append(-1)\n",
    "\n",
    "    # Shuffling data\n",
    "    if shuffle_data:\n",
    "        c = list(zip(files, labels))\n",
    "        shuffle(c)\n",
    "        files, labels = zip(*c)\n",
    "\n",
    "    # Dividing data into 60% train, 20% validation, and 20% test\n",
    "    train_files = files[0:int(tvt['train']*len(files))]\n",
    "    train_labels = labels[0:int(tvt['train']*len(files))]\n",
    "    val_files = files[int(tvt['train']*len(files)):int(tvt['val']*len(files))]\n",
    "    val_labels = labels[int(tvt['train']*len(files)):int(tvt['val']*len(files))]\n",
    "    test_files = files[int(tvt['val']*len(files)):]\n",
    "    test_labels = labels[int(tvt['val']*len(files)):]\n",
    "    \n",
    "    if return_type == 'train':\n",
    "        return train_files, train_labels\n",
    "    elif return_type == 'val':\n",
    "        return val_files, val_labels\n",
    "    elif return_type == 'test':\n",
    "        return test_files, test_labels"
   ]
  },
  {
   "cell_type": "markdown",
   "metadata": {},
   "source": [
    "# Write to tfrecords file"
   ]
  },
  {
   "cell_type": "code",
   "execution_count": 4,
   "metadata": {},
   "outputs": [],
   "source": [
    "def load_image(addr):\n",
    "    # Read an image and resizing it.\n",
    "    # cv2 loads images as BGR; converting it to RGB\n",
    "    img = Image.open(addr)\n",
    "    img = cv2.imread(addr)\n",
    "    img = cv2.resize(img, resize_image, interpolation=cv2.INTER_CUBIC)\n",
    "    img = cv2.cvtColor(img, cv2.COLOR_BGR2RGB)\n",
    "    img = img.astype(np.float32)\n",
    "    return img\n",
    "\n",
    "def _int64_feature(value):\n",
    "    return tf.train.Feature(int64_list=tf.train.Int64List(value=[value]))\n",
    "\n",
    "def _bytes_feature(value):\n",
    "    return tf.train.Feature(bytes_list=tf.train.BytesList(value=[value]))\n",
    "\n",
    "def write_to_tfrecords(filename, files, label, tvt):\n",
    "    \n",
    "    # Open .tfrecords file\n",
    "    writer = tf.python_io.TFRecordWriter(filename)\n",
    "    \n",
    "    for i in range(len(files)):\n",
    "    \n",
    "        # Load image and its label\n",
    "        img = load_image(train_files[i])\n",
    "        label = train_labels[i]\n",
    "\n",
    "        # Create a feature\n",
    "        feature = { tvt+'/label': _int64_feature(label),\n",
    "                    tvt+'/image': _bytes_feature(tf.compat.as_bytes(img.tobytes()))}\n",
    "\n",
    "        # Create an example protocol buffer\n",
    "        example = tf.train.Example(features=tf.train.Features(feature=feature))\n",
    "\n",
    "        # Serialize to string and write on the file\n",
    "        writer.write(example.SerializeToString())\n",
    "    \n",
    "    writer.close()\n",
    "    sys.stdout.flush()"
   ]
  },
  {
   "cell_type": "markdown",
   "metadata": {},
   "source": [
    "# Read from tfrecords file"
   ]
  },
  {
   "cell_type": "code",
   "execution_count": 5,
   "metadata": {},
   "outputs": [],
   "source": [
    "# Read from .tfrecords file\n",
    "def read_from_tfrecords(tvt):\n",
    "    \n",
    "    data_path = glob.glob(tvt+'.tfrecords')\n",
    "\n",
    "    feature = { tvt+'/image': tf.FixedLenFeature([], tf.string),\n",
    "                tvt+'/label': tf.FixedLenFeature([], tf.int64)}\n",
    "\n",
    "    # Create list of all .tfrecords files and pass it to queue\n",
    "    filename_queue = tf.train.string_input_producer(data_path, num_epochs=1)\n",
    "\n",
    "    # Define reader and read file from queue\n",
    "    reader = tf.TFRecordReader()\n",
    "    _, serialized_example = reader.read(filename_queue)\n",
    "\n",
    "    # Decode the record read by the reader\n",
    "    features = tf.parse_single_example(serialized_example, features=feature)\n",
    "\n",
    "    # Convert serialized data back to arrays and numbers\n",
    "    image = tf.decode_raw(features[tvt+'/image'], tf.float32)\n",
    "    label = tf.cast(features[tvt+'/label'], tf.int32)\n",
    "\n",
    "    # Reshape image data into the original shape\n",
    "    image = tf.reshape(image, resize_image_set)\n",
    "\n",
    "    # Creates batches by randomly shuffling tensors\n",
    "    images, labels = tf.train.shuffle_batch([image, label], batch_size=5, capacity=10, \n",
    "                                        num_threads=1, min_after_dequeue=5)\n",
    "\n",
    "    return images, labels"
   ]
  },
  {
   "cell_type": "markdown",
   "metadata": {},
   "source": [
    "# CNN"
   ]
  },
  {
   "cell_type": "code",
   "execution_count": 6,
   "metadata": {
    "collapsed": true
   },
   "outputs": [],
   "source": [
    "def create_new_conv_layer(input_data, num_input_channels, num_filters, filter_shape, pool_shape, name):\n",
    "    \n",
    "    # Setup filter input shape for tf.nn.conv_2d\n",
    "    conv_filt_shape = [filter_shape[0], filter_shape[1], num_input_channels,\n",
    "                      num_filters]\n",
    "\n",
    "    # Initialise weights and bias for the filter\n",
    "    weights = tf.Variable(tf.truncated_normal(conv_filt_shape, stddev=0.03),\n",
    "                                      name=name+'_W')\n",
    "    bias = tf.Variable(tf.truncated_normal([num_filters]), name=name+'_b')\n",
    "\n",
    "    # Setup the convolutional layer operation\n",
    "    out_layer = tf.nn.conv2d(input_data, weights, [1, 1, 1, 1], padding='SAME')\n",
    "\n",
    "    # Add the bias\n",
    "    out_layer += bias\n",
    "\n",
    "    # Apply a ReLU non-linear activation\n",
    "    out_layer = tf.nn.relu(out_layer)\n",
    "\n",
    "    # Perform max pooling\n",
    "    ksize = [1, pool_shape[0], pool_shape[1], 1]\n",
    "    strides = [1, 2, 2, 1]\n",
    "    out_layer = tf.nn.max_pool(out_layer, ksize=ksize, strides=strides, \n",
    "                               padding='SAME')\n",
    "\n",
    "    return out_layer"
   ]
  },
  {
   "cell_type": "markdown",
   "metadata": {},
   "source": [
    "# Main"
   ]
  },
  {
   "cell_type": "code",
   "execution_count": 7,
   "metadata": {},
   "outputs": [],
   "source": [
    "train_files, train_labels = split_data(input_data_path, trash_type, shuffle_data, tvt, 'train')\n",
    "val_files, val_labels = split_data(input_data_path, trash_type, shuffle_data, tvt, 'val')\n",
    "test_files, test_labels = split_data(input_data_path, trash_type, shuffle_data, tvt, 'test')\n",
    "\n",
    "write_to_tfrecords(train_filename, train_files, train_labels, 'train')\n",
    "write_to_tfrecords(val_filename, val_files, val_labels, 'val')\n",
    "write_to_tfrecords(test_filename, test_files, test_labels, 'test')\n",
    "\n",
    "image_batch, label_batch = read_from_tfrecords('train')"
   ]
  },
  {
   "cell_type": "code",
   "execution_count": 10,
   "metadata": {
    "collapsed": true
   },
   "outputs": [],
   "source": [
    "# # Create CNN\n",
    "# # Python optimisation variables\n",
    "# learning_rate = 0.0001\n",
    "# epochs = 10\n",
    "# batch_size = 5\n",
    "\n",
    "# # Declare the training data placeholders\n",
    "# # Input x - for 224 x 224 x 3 = 150528 - this is the flattened image data that is drawn from shuffle_batch()\n",
    "# x = tf.placeholder(tf.float32, [None, 150528])\n",
    "\n",
    "# # Dynamically reshape the input\n",
    "# x_shaped = tf.reshape(x, [-1, IMAGE_HEIGHT, IMAGE_WIDTH, NUM_CHANNELS])\n",
    "\n",
    "# # Declare the output data placeholder - 3 labels (compost, landfill & recyclable)\n",
    "# y = tf.placeholder(tf.float32, [None, 3])"
   ]
  }
 ],
 "metadata": {
  "kernelspec": {
   "display_name": "Python 3",
   "language": "python",
   "name": "python3"
  },
  "language_info": {
   "codemirror_mode": {
    "name": "ipython",
    "version": 3
   },
   "file_extension": ".py",
   "mimetype": "text/x-python",
   "name": "python",
   "nbconvert_exporter": "python",
   "pygments_lexer": "ipython3",
   "version": "3.6.3"
  }
 },
 "nbformat": 4,
 "nbformat_minor": 2
}
