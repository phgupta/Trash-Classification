{
 "cells": [
  {
   "cell_type": "code",
   "execution_count": 1,
   "metadata": {
    "collapsed": true
   },
   "outputs": [],
   "source": [
    "import glob\n",
    "import cv2\n",
    "import sys\n",
    "import tensorflow as tf\n",
    "import numpy as np\n",
    "import matplotlib.pyplot as plt \n",
    "from PIL import Image\n",
    "from random import shuffle"
   ]
  },
  {
   "cell_type": "markdown",
   "metadata": {},
   "source": [
    "# Parameters"
   ]
  },
  {
   "cell_type": "code",
   "execution_count": 2,
   "metadata": {
    "collapsed": true
   },
   "outputs": [],
   "source": [
    "input_data_path = \"Dataset/**/*.jpg\" \n",
    "trash_type = ['compost', 'landfill', 'recyclable'] # Keep 3 types only\n",
    "shuffle_data = True\n",
    "tvt = {'train': 0.6, 'val': 0.8, 'test': 1} # Train: 60%, Val: 20%, Test: 20%\n",
    "\n",
    "train_filename = 'train.tfrecords'\n",
    "val_filename = 'val.tfrecords'\n",
    "test_filename = 'test.tfrecords'\n",
    "resize_image = (224, 224)\n",
    "resize_image_set = [224, 224, 3]\n",
    "\n",
    "BATCH_SIZE = 5\n",
    "IMAGE_HEIGHT = 224\n",
    "IMAGE_WIDTH = 224\n",
    "NUM_CHANNELS = 3 # RGB\n",
    "NUM_CLASSES = 3 # Compost, Landfill & Recyclable\n",
    "FILTER_SHAPE = [5, 5]\n",
    "NUM_FILTERS = 32\n",
    "POOL_SHAPE = [2, 2]\n",
    "\n",
    "LEARNING_RATE = 0.0001"
   ]
  },
  {
   "cell_type": "markdown",
   "metadata": {},
   "source": [
    "# Split dataset into training, validation & test set."
   ]
  },
  {
   "cell_type": "code",
   "execution_count": 3,
   "metadata": {
    "collapsed": true
   },
   "outputs": [],
   "source": [
    "def split_data(input_data_path, trash_type, shuffle_data, tvt, return_type):\n",
    "\n",
    "    labels = []\n",
    "    \n",
    "    # Labelling data\n",
    "    files = glob.glob(input_data_path)\n",
    "    for file in files:\n",
    "        if trash_type[0] in file:\n",
    "            labels.append(0)\n",
    "        elif trash_type[1] in file:\n",
    "            labels.append(1)\n",
    "        elif trash_type[2] in file:\n",
    "            labels.append(2)\n",
    "        else:\n",
    "            labels.append(-1)\n",
    "\n",
    "    # Shuffling data\n",
    "    if shuffle_data:\n",
    "        c = list(zip(files, labels))\n",
    "        shuffle(c)\n",
    "        files, labels = zip(*c)\n",
    "        \n",
    "    # Dividing data into 60% train, 20% validation, and 20% test\n",
    "    train_files = files[0:int(tvt['train']*len(files))]\n",
    "    train_labels = labels[0:int(tvt['train']*len(files))]\n",
    "    val_files = files[int(tvt['train']*len(files)):int(tvt['val']*len(files))]\n",
    "    val_labels = labels[int(tvt['train']*len(files)):int(tvt['val']*len(files))]\n",
    "    test_files = files[int(tvt['val']*len(files)):]\n",
    "    test_labels = labels[int(tvt['val']*len(files)):]\n",
    "    \n",
    "    if return_type == 'train':\n",
    "        return train_files, train_labels\n",
    "    elif return_type == 'val':\n",
    "        return val_files, val_labels\n",
    "    elif return_type == 'test':\n",
    "        return test_files, test_labels"
   ]
  },
  {
   "cell_type": "markdown",
   "metadata": {},
   "source": [
    "# Write to tfrecords file"
   ]
  },
  {
   "cell_type": "code",
   "execution_count": 4,
   "metadata": {
    "collapsed": true
   },
   "outputs": [],
   "source": [
    "def load_image(addr):\n",
    "    # Read an image and resizing it.\n",
    "    # cv2 loads images as BGR; converting it to RGB\n",
    "    img = Image.open(addr)\n",
    "    img = cv2.imread(addr)\n",
    "    img = cv2.resize(img, resize_image, interpolation=cv2.INTER_CUBIC)\n",
    "    img = cv2.cvtColor(img, cv2.COLOR_BGR2RGB)\n",
    "    img = img.astype(np.float32)\n",
    "    return img\n",
    "\n",
    "def _int64_feature(value):\n",
    "    return tf.train.Feature(int64_list=tf.train.Int64List(value=[value]))\n",
    "\n",
    "def _bytes_feature(value):\n",
    "    return tf.train.Feature(bytes_list=tf.train.BytesList(value=[value]))\n",
    "\n",
    "def write_to_tfrecords(filename, files, label, tvt):\n",
    "    \n",
    "    # Open .tfrecords file\n",
    "    writer = tf.python_io.TFRecordWriter(filename)\n",
    "    \n",
    "    for i in range(len(files)):\n",
    "    \n",
    "        # Load image and its label\n",
    "        img = load_image(train_files[i])\n",
    "        label = train_labels[i]\n",
    "\n",
    "        # Create a feature\n",
    "        feature = { tvt+'/label': _int64_feature(label),\n",
    "                    tvt+'/image': _bytes_feature(tf.compat.as_bytes(img.tobytes()))}\n",
    "\n",
    "        # Create an example protocol buffer\n",
    "        example = tf.train.Example(features=tf.train.Features(feature=feature))\n",
    "\n",
    "        # Serialize to string and write on the file\n",
    "        writer.write(example.SerializeToString())\n",
    "    \n",
    "    writer.close()\n",
    "    sys.stdout.flush()"
   ]
  },
  {
   "cell_type": "markdown",
   "metadata": {},
   "source": [
    "# Read from tfrecords file"
   ]
  },
  {
   "cell_type": "code",
   "execution_count": 5,
   "metadata": {
    "collapsed": true
   },
   "outputs": [],
   "source": [
    "def read_from_tfrecords(tvt):\n",
    "    \n",
    "    data_path = glob.glob(tvt+'.tfrecords')\n",
    "\n",
    "    feature = { tvt+'/image': tf.FixedLenFeature([], tf.string),\n",
    "                tvt+'/label': tf.FixedLenFeature([], tf.int64)}\n",
    "\n",
    "    # Create list of all .tfrecords files and pass it to queue\n",
    "    filename_queue = tf.train.string_input_producer(data_path, num_epochs=1)\n",
    "\n",
    "    # Define reader and read file from queue\n",
    "    reader = tf.TFRecordReader()\n",
    "    _, serialized_example = reader.read(filename_queue)\n",
    "\n",
    "    # Decode the record read by the reader\n",
    "    features = tf.parse_single_example(serialized_example, features=feature)\n",
    "\n",
    "    # Convert serialized data back to arrays and numbers\n",
    "    image = tf.decode_raw(features[tvt+'/image'], tf.float32)\n",
    "    label = tf.cast(features[tvt+'/label'], tf.int32)\n",
    "\n",
    "    # Reshape image data into the original shape\n",
    "    image = tf.reshape(image, resize_image_set)\n",
    "    \n",
    "    # Creates batches by randomly shuffling tensors\n",
    "    images, labels = tf.train.shuffle_batch([image, label], batch_size=BATCH_SIZE, capacity=10, \n",
    "                                        num_threads=1, min_after_dequeue=5)\n",
    "\n",
    "    return images, labels"
   ]
  },
  {
   "cell_type": "markdown",
   "metadata": {},
   "source": [
    "# CNN"
   ]
  },
  {
   "cell_type": "code",
   "execution_count": 6,
   "metadata": {
    "collapsed": true
   },
   "outputs": [],
   "source": [
    "def create_new_conv_layer(input_data, num_input_channels, num_filters, filter_shape, pool_shape, name):\n",
    "    \n",
    "    # Setup filter input shape for tf.nn.conv_2d\n",
    "    conv_filt_shape = [filter_shape[0], filter_shape[1], num_input_channels,\n",
    "                      num_filters]\n",
    "\n",
    "    # Initialise weights and bias for the filter\n",
    "    weights = tf.Variable(tf.truncated_normal(conv_filt_shape, stddev=0.03),\n",
    "                                      name=name+'_W')\n",
    "    bias = tf.Variable(tf.truncated_normal([num_filters]), name=name+'_b')\n",
    "\n",
    "    # Setup the convolutional layer operation\n",
    "    out_layer = tf.nn.conv2d(input_data, weights, [1, 1, 1, 1], padding='SAME')\n",
    "\n",
    "    # Add the bias\n",
    "    out_layer += bias\n",
    "\n",
    "    # Apply a ReLU non-linear activation\n",
    "    out_layer = tf.nn.relu(out_layer)\n",
    "\n",
    "    # Perform max pooling\n",
    "    ksize = [1, pool_shape[0], pool_shape[1], 1]\n",
    "    strides = [1, 2, 2, 1]\n",
    "    out_layer = tf.nn.max_pool(out_layer, ksize=ksize, strides=strides, \n",
    "                               padding='SAME')\n",
    "\n",
    "    return out_layer\n",
    "\n",
    "\n",
    "def cnn():\n",
    "    image_batch_out, label_batch_out = read_from_tfrecords('train')\n",
    "    \n",
    "    image_batch_placeholder = tf.placeholder(tf.float32, shape=[BATCH_SIZE, IMAGE_HEIGHT, IMAGE_WIDTH, NUM_CHANNELS])\n",
    "    image_batch = tf.reshape(image_batch_out, (BATCH_SIZE, IMAGE_HEIGHT, IMAGE_WIDTH, NUM_CHANNELS))\n",
    "    \n",
    "    label_batch_placeholder = tf.placeholder(tf.float32, shape=[BATCH_SIZE, NUM_CLASSES])\n",
    "    label_offset = -tf.ones([BATCH_SIZE], dtype=tf.int32, name=\"label_batch_offset\")\n",
    "    label_batch_one_hot = tf.one_hot(tf.add(label_batch_out, label_offset), \n",
    "                                     depth=NUM_CLASSES, on_value=1.0, off_value=0.0)\n",
    "    \n",
    "    \n",
    "    layer1 = create_new_conv_layer(image_batch, NUM_CHANNELS, NUM_FILTERS, FILTER_SHAPE, POOL_SHAPE, name='layer1')\n",
    "    layer2 = create_new_conv_layer(layer1, NUM_FILTERS, NUM_FILTERS*2, \n",
    "                                   FILTER_SHAPE, POOL_SHAPE, name='layer2')\n",
    "    \n",
    "    flattened = tf.reshape(layer2, [-1, 56 * 56 * 64])\n",
    "    \n",
    "    # setup some weights and bias values for this layer, then activate with ReLU\n",
    "    wd1 = tf.Variable(tf.truncated_normal([56 * 56 * 64, BATCH_SIZE], stddev=0.03), name='wd1')\n",
    "    bd1 = tf.Variable(tf.truncated_normal([BATCH_SIZE], stddev=0.01), name='bd1')\n",
    "    dense_layer1 = tf.matmul(flattened, wd1) + bd1\n",
    "    dense_layer1 = tf.nn.relu(dense_layer1)\n",
    "    \n",
    "    # another layer with softmax activations\n",
    "    wd2 = tf.Variable(tf.truncated_normal([BATCH_SIZE, NUM_CLASSES], stddev=0.03), name='wd2')\n",
    "    bd2 = tf.Variable(tf.truncated_normal([NUM_CLASSES], stddev=0.01), name='bd2')\n",
    "    dense_layer2 = tf.matmul(dense_layer1, wd2) + bd2\n",
    "    y_ = tf.nn.softmax(dense_layer2)\n",
    "    \n",
    "    loss = tf.losses.mean_squared_error(labels=label_batch_placeholder, predictions=y_)\n",
    "    train_step = tf.train.GradientDescentOptimizer(0.0005).minimize(loss)\n",
    "    saver = tf.train.Saver()\n",
    "    \n",
    "    with tf.Session() as sess:\n",
    "        # Visualize the graph through tensorboard.\n",
    "        file_writer = tf.summary.FileWriter(\"./logs\", sess.graph)\n",
    "\n",
    "        sess.run(tf.global_variables_initializer())\n",
    "        coord = tf.train.Coordinator()\n",
    "        threads = tf.train.start_queue_runners(coord=coord, sess=sess)\n",
    "\n",
    "        for i in range(3):\n",
    "            image_out, label_out, label_batch_one_hot_out = sess.run([image_batch, label_batch_out, label_batch_one_hot])\n",
    "\n",
    "            _, infer_out, loss_out = sess.run([train_step, y_, loss], feed_dict= { image_batch_placeholder: image_out, \n",
    "                                                                                 label_batch_placeholder: label_batch_one_hot_out})\n",
    "\n",
    "            print(i)\n",
    "            print(image_out.shape)\n",
    "            print(\"label_out: \")\n",
    "            print(filename_out)\n",
    "            print(label_out)\n",
    "            print(label_batch_one_hot_out)\n",
    "            print(\"infer_out: \")\n",
    "            print(infer_out)\n",
    "            print(\"loss: \")\n",
    "            print(loss_out)\n",
    "\n",
    "        coord.request_stop()\n",
    "        coord.join(threads)\n",
    "        sess.close()"
   ]
  },
  {
   "cell_type": "markdown",
   "metadata": {},
   "source": [
    "# Main"
   ]
  },
  {
   "cell_type": "code",
   "execution_count": 7,
   "metadata": {},
   "outputs": [
    {
     "name": "stdout",
     "output_type": "stream",
     "text": [
      "Tensor(\"Reshape:0\", shape=(224, 224, 3), dtype=float32)\n",
      "INFO:tensorflow:Error reported to Coordinator: <class 'tensorflow.python.framework.errors_impl.FailedPreconditionError'>, Attempting to use uninitialized value input_producer/limit_epochs/epochs\n",
      "\t [[Node: input_producer/limit_epochs/CountUpTo = CountUpTo[T=DT_INT64, _class=[\"loc:@input_producer/limit_epochs/epochs\"], limit=1, _device=\"/job:localhost/replica:0/task:0/device:CPU:0\"](input_producer/limit_epochs/epochs)]]\n"
     ]
    },
    {
     "ename": "OutOfRangeError",
     "evalue": "RandomShuffleQueue '_2_shuffle_batch/random_shuffle_queue' is closed and has insufficient elements (requested 5, current size 0)\n\t [[Node: shuffle_batch = QueueDequeueManyV2[component_types=[DT_FLOAT, DT_INT32], timeout_ms=-1, _device=\"/job:localhost/replica:0/task:0/device:CPU:0\"](shuffle_batch/random_shuffle_queue, shuffle_batch/n)]]\n\nCaused by op 'shuffle_batch', defined at:\n  File \"/Users/pranavhgupta/anaconda3/lib/python3.6/runpy.py\", line 193, in _run_module_as_main\n    \"__main__\", mod_spec)\n  File \"/Users/pranavhgupta/anaconda3/lib/python3.6/runpy.py\", line 85, in _run_code\n    exec(code, run_globals)\n  File \"/Users/pranavhgupta/anaconda3/lib/python3.6/site-packages/ipykernel_launcher.py\", line 16, in <module>\n    app.launch_new_instance()\n  File \"/Users/pranavhgupta/anaconda3/lib/python3.6/site-packages/traitlets/config/application.py\", line 658, in launch_instance\n    app.start()\n  File \"/Users/pranavhgupta/anaconda3/lib/python3.6/site-packages/ipykernel/kernelapp.py\", line 477, in start\n    ioloop.IOLoop.instance().start()\n  File \"/Users/pranavhgupta/anaconda3/lib/python3.6/site-packages/zmq/eventloop/ioloop.py\", line 177, in start\n    super(ZMQIOLoop, self).start()\n  File \"/Users/pranavhgupta/anaconda3/lib/python3.6/site-packages/tornado/ioloop.py\", line 888, in start\n    handler_func(fd_obj, events)\n  File \"/Users/pranavhgupta/anaconda3/lib/python3.6/site-packages/tornado/stack_context.py\", line 277, in null_wrapper\n    return fn(*args, **kwargs)\n  File \"/Users/pranavhgupta/anaconda3/lib/python3.6/site-packages/zmq/eventloop/zmqstream.py\", line 440, in _handle_events\n    self._handle_recv()\n  File \"/Users/pranavhgupta/anaconda3/lib/python3.6/site-packages/zmq/eventloop/zmqstream.py\", line 472, in _handle_recv\n    self._run_callback(callback, msg)\n  File \"/Users/pranavhgupta/anaconda3/lib/python3.6/site-packages/zmq/eventloop/zmqstream.py\", line 414, in _run_callback\n    callback(*args, **kwargs)\n  File \"/Users/pranavhgupta/anaconda3/lib/python3.6/site-packages/tornado/stack_context.py\", line 277, in null_wrapper\n    return fn(*args, **kwargs)\n  File \"/Users/pranavhgupta/anaconda3/lib/python3.6/site-packages/ipykernel/kernelbase.py\", line 283, in dispatcher\n    return self.dispatch_shell(stream, msg)\n  File \"/Users/pranavhgupta/anaconda3/lib/python3.6/site-packages/ipykernel/kernelbase.py\", line 235, in dispatch_shell\n    handler(stream, idents, msg)\n  File \"/Users/pranavhgupta/anaconda3/lib/python3.6/site-packages/ipykernel/kernelbase.py\", line 399, in execute_request\n    user_expressions, allow_stdin)\n  File \"/Users/pranavhgupta/anaconda3/lib/python3.6/site-packages/ipykernel/ipkernel.py\", line 196, in do_execute\n    res = shell.run_cell(code, store_history=store_history, silent=silent)\n  File \"/Users/pranavhgupta/anaconda3/lib/python3.6/site-packages/ipykernel/zmqshell.py\", line 533, in run_cell\n    return super(ZMQInteractiveShell, self).run_cell(*args, **kwargs)\n  File \"/Users/pranavhgupta/anaconda3/lib/python3.6/site-packages/IPython/core/interactiveshell.py\", line 2698, in run_cell\n    interactivity=interactivity, compiler=compiler, result=result)\n  File \"/Users/pranavhgupta/anaconda3/lib/python3.6/site-packages/IPython/core/interactiveshell.py\", line 2808, in run_ast_nodes\n    if self.run_code(code, result):\n  File \"/Users/pranavhgupta/anaconda3/lib/python3.6/site-packages/IPython/core/interactiveshell.py\", line 2862, in run_code\n    exec(code_obj, self.user_global_ns, self.user_ns)\n  File \"<ipython-input-7-93c2960a3423>\", line 9, in <module>\n    cnn()\n  File \"<ipython-input-6-68c3229f16c6>\", line 31, in cnn\n    image_batch_out, label_batch_out = read_from_tfrecords('train')\n  File \"<ipython-input-5-2c9e9a156fbf>\", line 28, in read_from_tfrecords\n    num_threads=1, min_after_dequeue=5)\n  File \"/Users/pranavhgupta/anaconda3/lib/python3.6/site-packages/tensorflow/python/training/input.py\", line 1287, in shuffle_batch\n    name=name)\n  File \"/Users/pranavhgupta/anaconda3/lib/python3.6/site-packages/tensorflow/python/training/input.py\", line 838, in _shuffle_batch\n    dequeued = queue.dequeue_many(batch_size, name=name)\n  File \"/Users/pranavhgupta/anaconda3/lib/python3.6/site-packages/tensorflow/python/ops/data_flow_ops.py\", line 475, in dequeue_many\n    self._queue_ref, n=n, component_types=self._dtypes, name=name)\n  File \"/Users/pranavhgupta/anaconda3/lib/python3.6/site-packages/tensorflow/python/ops/gen_data_flow_ops.py\", line 2445, in _queue_dequeue_many_v2\n    component_types=component_types, timeout_ms=timeout_ms, name=name)\n  File \"/Users/pranavhgupta/anaconda3/lib/python3.6/site-packages/tensorflow/python/framework/op_def_library.py\", line 787, in _apply_op_helper\n    op_def=op_def)\n  File \"/Users/pranavhgupta/anaconda3/lib/python3.6/site-packages/tensorflow/python/framework/ops.py\", line 3160, in create_op\n    op_def=op_def)\n  File \"/Users/pranavhgupta/anaconda3/lib/python3.6/site-packages/tensorflow/python/framework/ops.py\", line 1625, in __init__\n    self._traceback = self._graph._extract_stack()  # pylint: disable=protected-access\n\nOutOfRangeError (see above for traceback): RandomShuffleQueue '_2_shuffle_batch/random_shuffle_queue' is closed and has insufficient elements (requested 5, current size 0)\n\t [[Node: shuffle_batch = QueueDequeueManyV2[component_types=[DT_FLOAT, DT_INT32], timeout_ms=-1, _device=\"/job:localhost/replica:0/task:0/device:CPU:0\"](shuffle_batch/random_shuffle_queue, shuffle_batch/n)]]\n",
     "output_type": "error",
     "traceback": [
      "\u001b[0;31m---------------------------------------------------------------------------\u001b[0m",
      "\u001b[0;31mOutOfRangeError\u001b[0m                           Traceback (most recent call last)",
      "\u001b[0;32m~/anaconda3/lib/python3.6/site-packages/tensorflow/python/client/session.py\u001b[0m in \u001b[0;36m_do_call\u001b[0;34m(self, fn, *args)\u001b[0m\n\u001b[1;32m   1349\u001b[0m     \u001b[0;32mtry\u001b[0m\u001b[0;34m:\u001b[0m\u001b[0;34m\u001b[0m\u001b[0m\n\u001b[0;32m-> 1350\u001b[0;31m       \u001b[0;32mreturn\u001b[0m \u001b[0mfn\u001b[0m\u001b[0;34m(\u001b[0m\u001b[0;34m*\u001b[0m\u001b[0margs\u001b[0m\u001b[0;34m)\u001b[0m\u001b[0;34m\u001b[0m\u001b[0m\n\u001b[0m\u001b[1;32m   1351\u001b[0m     \u001b[0;32mexcept\u001b[0m \u001b[0merrors\u001b[0m\u001b[0;34m.\u001b[0m\u001b[0mOpError\u001b[0m \u001b[0;32mas\u001b[0m \u001b[0me\u001b[0m\u001b[0;34m:\u001b[0m\u001b[0;34m\u001b[0m\u001b[0m\n",
      "\u001b[0;32m~/anaconda3/lib/python3.6/site-packages/tensorflow/python/client/session.py\u001b[0m in \u001b[0;36m_run_fn\u001b[0;34m(session, feed_dict, fetch_list, target_list, options, run_metadata)\u001b[0m\n\u001b[1;32m   1328\u001b[0m                                    \u001b[0mfeed_dict\u001b[0m\u001b[0;34m,\u001b[0m \u001b[0mfetch_list\u001b[0m\u001b[0;34m,\u001b[0m \u001b[0mtarget_list\u001b[0m\u001b[0;34m,\u001b[0m\u001b[0;34m\u001b[0m\u001b[0m\n\u001b[0;32m-> 1329\u001b[0;31m                                    status, run_metadata)\n\u001b[0m\u001b[1;32m   1330\u001b[0m \u001b[0;34m\u001b[0m\u001b[0m\n",
      "\u001b[0;32m~/anaconda3/lib/python3.6/site-packages/tensorflow/python/framework/errors_impl.py\u001b[0m in \u001b[0;36m__exit__\u001b[0;34m(self, type_arg, value_arg, traceback_arg)\u001b[0m\n\u001b[1;32m    472\u001b[0m             \u001b[0mcompat\u001b[0m\u001b[0;34m.\u001b[0m\u001b[0mas_text\u001b[0m\u001b[0;34m(\u001b[0m\u001b[0mc_api\u001b[0m\u001b[0;34m.\u001b[0m\u001b[0mTF_Message\u001b[0m\u001b[0;34m(\u001b[0m\u001b[0mself\u001b[0m\u001b[0;34m.\u001b[0m\u001b[0mstatus\u001b[0m\u001b[0;34m.\u001b[0m\u001b[0mstatus\u001b[0m\u001b[0;34m)\u001b[0m\u001b[0;34m)\u001b[0m\u001b[0;34m,\u001b[0m\u001b[0;34m\u001b[0m\u001b[0m\n\u001b[0;32m--> 473\u001b[0;31m             c_api.TF_GetCode(self.status.status))\n\u001b[0m\u001b[1;32m    474\u001b[0m     \u001b[0;31m# Delete the underlying status object from memory otherwise it stays alive\u001b[0m\u001b[0;34m\u001b[0m\u001b[0;34m\u001b[0m\u001b[0m\n",
      "\u001b[0;31mOutOfRangeError\u001b[0m: RandomShuffleQueue '_2_shuffle_batch/random_shuffle_queue' is closed and has insufficient elements (requested 5, current size 0)\n\t [[Node: shuffle_batch = QueueDequeueManyV2[component_types=[DT_FLOAT, DT_INT32], timeout_ms=-1, _device=\"/job:localhost/replica:0/task:0/device:CPU:0\"](shuffle_batch/random_shuffle_queue, shuffle_batch/n)]]",
      "\nDuring handling of the above exception, another exception occurred:\n",
      "\u001b[0;31mOutOfRangeError\u001b[0m                           Traceback (most recent call last)",
      "\u001b[0;32m<ipython-input-7-93c2960a3423>\u001b[0m in \u001b[0;36m<module>\u001b[0;34m()\u001b[0m\n\u001b[1;32m      7\u001b[0m \u001b[0;31m# write_to_tfrecords(test_filename, test_files, test_labels, 'test')\u001b[0m\u001b[0;34m\u001b[0m\u001b[0;34m\u001b[0m\u001b[0m\n\u001b[1;32m      8\u001b[0m \u001b[0;34m\u001b[0m\u001b[0m\n\u001b[0;32m----> 9\u001b[0;31m \u001b[0mcnn\u001b[0m\u001b[0;34m(\u001b[0m\u001b[0;34m)\u001b[0m\u001b[0;34m\u001b[0m\u001b[0m\n\u001b[0m",
      "\u001b[0;32m<ipython-input-6-68c3229f16c6>\u001b[0m in \u001b[0;36mcnn\u001b[0;34m()\u001b[0m\n\u001b[1;32m     71\u001b[0m \u001b[0;34m\u001b[0m\u001b[0m\n\u001b[1;32m     72\u001b[0m         \u001b[0;32mfor\u001b[0m \u001b[0mi\u001b[0m \u001b[0;32min\u001b[0m \u001b[0mrange\u001b[0m\u001b[0;34m(\u001b[0m\u001b[0;36m3\u001b[0m\u001b[0;34m)\u001b[0m\u001b[0;34m:\u001b[0m\u001b[0;34m\u001b[0m\u001b[0m\n\u001b[0;32m---> 73\u001b[0;31m             \u001b[0mimage_out\u001b[0m\u001b[0;34m,\u001b[0m \u001b[0mlabel_out\u001b[0m\u001b[0;34m,\u001b[0m \u001b[0mlabel_batch_one_hot_out\u001b[0m \u001b[0;34m=\u001b[0m \u001b[0msess\u001b[0m\u001b[0;34m.\u001b[0m\u001b[0mrun\u001b[0m\u001b[0;34m(\u001b[0m\u001b[0;34m[\u001b[0m\u001b[0mimage_batch\u001b[0m\u001b[0;34m,\u001b[0m \u001b[0mlabel_batch_out\u001b[0m\u001b[0;34m,\u001b[0m \u001b[0mlabel_batch_one_hot\u001b[0m\u001b[0;34m]\u001b[0m\u001b[0;34m)\u001b[0m\u001b[0;34m\u001b[0m\u001b[0m\n\u001b[0m\u001b[1;32m     74\u001b[0m \u001b[0;34m\u001b[0m\u001b[0m\n\u001b[1;32m     75\u001b[0m             _, infer_out, loss_out = sess.run([train_step, y_, loss], feed_dict= { image_batch_placeholder: image_out, \n",
      "\u001b[0;32m~/anaconda3/lib/python3.6/site-packages/tensorflow/python/client/session.py\u001b[0m in \u001b[0;36mrun\u001b[0;34m(self, fetches, feed_dict, options, run_metadata)\u001b[0m\n\u001b[1;32m    893\u001b[0m     \u001b[0;32mtry\u001b[0m\u001b[0;34m:\u001b[0m\u001b[0;34m\u001b[0m\u001b[0m\n\u001b[1;32m    894\u001b[0m       result = self._run(None, fetches, feed_dict, options_ptr,\n\u001b[0;32m--> 895\u001b[0;31m                          run_metadata_ptr)\n\u001b[0m\u001b[1;32m    896\u001b[0m       \u001b[0;32mif\u001b[0m \u001b[0mrun_metadata\u001b[0m\u001b[0;34m:\u001b[0m\u001b[0;34m\u001b[0m\u001b[0m\n\u001b[1;32m    897\u001b[0m         \u001b[0mproto_data\u001b[0m \u001b[0;34m=\u001b[0m \u001b[0mtf_session\u001b[0m\u001b[0;34m.\u001b[0m\u001b[0mTF_GetBuffer\u001b[0m\u001b[0;34m(\u001b[0m\u001b[0mrun_metadata_ptr\u001b[0m\u001b[0;34m)\u001b[0m\u001b[0;34m\u001b[0m\u001b[0m\n",
      "\u001b[0;32m~/anaconda3/lib/python3.6/site-packages/tensorflow/python/client/session.py\u001b[0m in \u001b[0;36m_run\u001b[0;34m(self, handle, fetches, feed_dict, options, run_metadata)\u001b[0m\n\u001b[1;32m   1126\u001b[0m     \u001b[0;32mif\u001b[0m \u001b[0mfinal_fetches\u001b[0m \u001b[0;32mor\u001b[0m \u001b[0mfinal_targets\u001b[0m \u001b[0;32mor\u001b[0m \u001b[0;34m(\u001b[0m\u001b[0mhandle\u001b[0m \u001b[0;32mand\u001b[0m \u001b[0mfeed_dict_tensor\u001b[0m\u001b[0;34m)\u001b[0m\u001b[0;34m:\u001b[0m\u001b[0;34m\u001b[0m\u001b[0m\n\u001b[1;32m   1127\u001b[0m       results = self._do_run(handle, final_targets, final_fetches,\n\u001b[0;32m-> 1128\u001b[0;31m                              feed_dict_tensor, options, run_metadata)\n\u001b[0m\u001b[1;32m   1129\u001b[0m     \u001b[0;32melse\u001b[0m\u001b[0;34m:\u001b[0m\u001b[0;34m\u001b[0m\u001b[0m\n\u001b[1;32m   1130\u001b[0m       \u001b[0mresults\u001b[0m \u001b[0;34m=\u001b[0m \u001b[0;34m[\u001b[0m\u001b[0;34m]\u001b[0m\u001b[0;34m\u001b[0m\u001b[0m\n",
      "\u001b[0;32m~/anaconda3/lib/python3.6/site-packages/tensorflow/python/client/session.py\u001b[0m in \u001b[0;36m_do_run\u001b[0;34m(self, handle, target_list, fetch_list, feed_dict, options, run_metadata)\u001b[0m\n\u001b[1;32m   1342\u001b[0m     \u001b[0;32mif\u001b[0m \u001b[0mhandle\u001b[0m \u001b[0;32mis\u001b[0m \u001b[0;32mNone\u001b[0m\u001b[0;34m:\u001b[0m\u001b[0;34m\u001b[0m\u001b[0m\n\u001b[1;32m   1343\u001b[0m       return self._do_call(_run_fn, self._session, feeds, fetches, targets,\n\u001b[0;32m-> 1344\u001b[0;31m                            options, run_metadata)\n\u001b[0m\u001b[1;32m   1345\u001b[0m     \u001b[0;32melse\u001b[0m\u001b[0;34m:\u001b[0m\u001b[0;34m\u001b[0m\u001b[0m\n\u001b[1;32m   1346\u001b[0m       \u001b[0;32mreturn\u001b[0m \u001b[0mself\u001b[0m\u001b[0;34m.\u001b[0m\u001b[0m_do_call\u001b[0m\u001b[0;34m(\u001b[0m\u001b[0m_prun_fn\u001b[0m\u001b[0;34m,\u001b[0m \u001b[0mself\u001b[0m\u001b[0;34m.\u001b[0m\u001b[0m_session\u001b[0m\u001b[0;34m,\u001b[0m \u001b[0mhandle\u001b[0m\u001b[0;34m,\u001b[0m \u001b[0mfeeds\u001b[0m\u001b[0;34m,\u001b[0m \u001b[0mfetches\u001b[0m\u001b[0;34m)\u001b[0m\u001b[0;34m\u001b[0m\u001b[0m\n",
      "\u001b[0;32m~/anaconda3/lib/python3.6/site-packages/tensorflow/python/client/session.py\u001b[0m in \u001b[0;36m_do_call\u001b[0;34m(self, fn, *args)\u001b[0m\n\u001b[1;32m   1361\u001b[0m         \u001b[0;32mexcept\u001b[0m \u001b[0mKeyError\u001b[0m\u001b[0;34m:\u001b[0m\u001b[0;34m\u001b[0m\u001b[0m\n\u001b[1;32m   1362\u001b[0m           \u001b[0;32mpass\u001b[0m\u001b[0;34m\u001b[0m\u001b[0m\n\u001b[0;32m-> 1363\u001b[0;31m       \u001b[0;32mraise\u001b[0m \u001b[0mtype\u001b[0m\u001b[0;34m(\u001b[0m\u001b[0me\u001b[0m\u001b[0;34m)\u001b[0m\u001b[0;34m(\u001b[0m\u001b[0mnode_def\u001b[0m\u001b[0;34m,\u001b[0m \u001b[0mop\u001b[0m\u001b[0;34m,\u001b[0m \u001b[0mmessage\u001b[0m\u001b[0;34m)\u001b[0m\u001b[0;34m\u001b[0m\u001b[0m\n\u001b[0m\u001b[1;32m   1364\u001b[0m \u001b[0;34m\u001b[0m\u001b[0m\n\u001b[1;32m   1365\u001b[0m   \u001b[0;32mdef\u001b[0m \u001b[0m_extend_graph\u001b[0m\u001b[0;34m(\u001b[0m\u001b[0mself\u001b[0m\u001b[0;34m)\u001b[0m\u001b[0;34m:\u001b[0m\u001b[0;34m\u001b[0m\u001b[0m\n",
      "\u001b[0;31mOutOfRangeError\u001b[0m: RandomShuffleQueue '_2_shuffle_batch/random_shuffle_queue' is closed and has insufficient elements (requested 5, current size 0)\n\t [[Node: shuffle_batch = QueueDequeueManyV2[component_types=[DT_FLOAT, DT_INT32], timeout_ms=-1, _device=\"/job:localhost/replica:0/task:0/device:CPU:0\"](shuffle_batch/random_shuffle_queue, shuffle_batch/n)]]\n\nCaused by op 'shuffle_batch', defined at:\n  File \"/Users/pranavhgupta/anaconda3/lib/python3.6/runpy.py\", line 193, in _run_module_as_main\n    \"__main__\", mod_spec)\n  File \"/Users/pranavhgupta/anaconda3/lib/python3.6/runpy.py\", line 85, in _run_code\n    exec(code, run_globals)\n  File \"/Users/pranavhgupta/anaconda3/lib/python3.6/site-packages/ipykernel_launcher.py\", line 16, in <module>\n    app.launch_new_instance()\n  File \"/Users/pranavhgupta/anaconda3/lib/python3.6/site-packages/traitlets/config/application.py\", line 658, in launch_instance\n    app.start()\n  File \"/Users/pranavhgupta/anaconda3/lib/python3.6/site-packages/ipykernel/kernelapp.py\", line 477, in start\n    ioloop.IOLoop.instance().start()\n  File \"/Users/pranavhgupta/anaconda3/lib/python3.6/site-packages/zmq/eventloop/ioloop.py\", line 177, in start\n    super(ZMQIOLoop, self).start()\n  File \"/Users/pranavhgupta/anaconda3/lib/python3.6/site-packages/tornado/ioloop.py\", line 888, in start\n    handler_func(fd_obj, events)\n  File \"/Users/pranavhgupta/anaconda3/lib/python3.6/site-packages/tornado/stack_context.py\", line 277, in null_wrapper\n    return fn(*args, **kwargs)\n  File \"/Users/pranavhgupta/anaconda3/lib/python3.6/site-packages/zmq/eventloop/zmqstream.py\", line 440, in _handle_events\n    self._handle_recv()\n  File \"/Users/pranavhgupta/anaconda3/lib/python3.6/site-packages/zmq/eventloop/zmqstream.py\", line 472, in _handle_recv\n    self._run_callback(callback, msg)\n  File \"/Users/pranavhgupta/anaconda3/lib/python3.6/site-packages/zmq/eventloop/zmqstream.py\", line 414, in _run_callback\n    callback(*args, **kwargs)\n  File \"/Users/pranavhgupta/anaconda3/lib/python3.6/site-packages/tornado/stack_context.py\", line 277, in null_wrapper\n    return fn(*args, **kwargs)\n  File \"/Users/pranavhgupta/anaconda3/lib/python3.6/site-packages/ipykernel/kernelbase.py\", line 283, in dispatcher\n    return self.dispatch_shell(stream, msg)\n  File \"/Users/pranavhgupta/anaconda3/lib/python3.6/site-packages/ipykernel/kernelbase.py\", line 235, in dispatch_shell\n    handler(stream, idents, msg)\n  File \"/Users/pranavhgupta/anaconda3/lib/python3.6/site-packages/ipykernel/kernelbase.py\", line 399, in execute_request\n    user_expressions, allow_stdin)\n  File \"/Users/pranavhgupta/anaconda3/lib/python3.6/site-packages/ipykernel/ipkernel.py\", line 196, in do_execute\n    res = shell.run_cell(code, store_history=store_history, silent=silent)\n  File \"/Users/pranavhgupta/anaconda3/lib/python3.6/site-packages/ipykernel/zmqshell.py\", line 533, in run_cell\n    return super(ZMQInteractiveShell, self).run_cell(*args, **kwargs)\n  File \"/Users/pranavhgupta/anaconda3/lib/python3.6/site-packages/IPython/core/interactiveshell.py\", line 2698, in run_cell\n    interactivity=interactivity, compiler=compiler, result=result)\n  File \"/Users/pranavhgupta/anaconda3/lib/python3.6/site-packages/IPython/core/interactiveshell.py\", line 2808, in run_ast_nodes\n    if self.run_code(code, result):\n  File \"/Users/pranavhgupta/anaconda3/lib/python3.6/site-packages/IPython/core/interactiveshell.py\", line 2862, in run_code\n    exec(code_obj, self.user_global_ns, self.user_ns)\n  File \"<ipython-input-7-93c2960a3423>\", line 9, in <module>\n    cnn()\n  File \"<ipython-input-6-68c3229f16c6>\", line 31, in cnn\n    image_batch_out, label_batch_out = read_from_tfrecords('train')\n  File \"<ipython-input-5-2c9e9a156fbf>\", line 28, in read_from_tfrecords\n    num_threads=1, min_after_dequeue=5)\n  File \"/Users/pranavhgupta/anaconda3/lib/python3.6/site-packages/tensorflow/python/training/input.py\", line 1287, in shuffle_batch\n    name=name)\n  File \"/Users/pranavhgupta/anaconda3/lib/python3.6/site-packages/tensorflow/python/training/input.py\", line 838, in _shuffle_batch\n    dequeued = queue.dequeue_many(batch_size, name=name)\n  File \"/Users/pranavhgupta/anaconda3/lib/python3.6/site-packages/tensorflow/python/ops/data_flow_ops.py\", line 475, in dequeue_many\n    self._queue_ref, n=n, component_types=self._dtypes, name=name)\n  File \"/Users/pranavhgupta/anaconda3/lib/python3.6/site-packages/tensorflow/python/ops/gen_data_flow_ops.py\", line 2445, in _queue_dequeue_many_v2\n    component_types=component_types, timeout_ms=timeout_ms, name=name)\n  File \"/Users/pranavhgupta/anaconda3/lib/python3.6/site-packages/tensorflow/python/framework/op_def_library.py\", line 787, in _apply_op_helper\n    op_def=op_def)\n  File \"/Users/pranavhgupta/anaconda3/lib/python3.6/site-packages/tensorflow/python/framework/ops.py\", line 3160, in create_op\n    op_def=op_def)\n  File \"/Users/pranavhgupta/anaconda3/lib/python3.6/site-packages/tensorflow/python/framework/ops.py\", line 1625, in __init__\n    self._traceback = self._graph._extract_stack()  # pylint: disable=protected-access\n\nOutOfRangeError (see above for traceback): RandomShuffleQueue '_2_shuffle_batch/random_shuffle_queue' is closed and has insufficient elements (requested 5, current size 0)\n\t [[Node: shuffle_batch = QueueDequeueManyV2[component_types=[DT_FLOAT, DT_INT32], timeout_ms=-1, _device=\"/job:localhost/replica:0/task:0/device:CPU:0\"](shuffle_batch/random_shuffle_queue, shuffle_batch/n)]]\n"
     ]
    }
   ],
   "source": [
    "# train_files, train_labels = split_data(input_data_path, trash_type, shuffle_data, tvt, 'train')\n",
    "# val_files, val_labels = split_data(input_data_path, trash_type, shuffle_data, tvt, 'val')\n",
    "# test_files, test_labels = split_data(input_data_path, trash_type, shuffle_data, tvt, 'test')\n",
    "\n",
    "# write_to_tfrecords(train_filename, train_files, train_labels, 'train')\n",
    "# write_to_tfrecords(val_filename, val_files, val_labels, 'val')\n",
    "# write_to_tfrecords(test_filename, test_files, test_labels, 'test')\n",
    "\n",
    "cnn()"
   ]
  },
  {
   "cell_type": "code",
   "execution_count": null,
   "metadata": {
    "collapsed": true
   },
   "outputs": [],
   "source": [
    "#     # x (image) - flattened image data; x_shaped - reshaped to 4D tensor\n",
    "#     x = tf.placeholder(image_batch, shape=[BATCH_SIZE, IMAGE_HEIGHT, IMAGE_WIDTH, NUM_CHANNELS])\n",
    "#     x_shaped = tf.reshape(x, [-1, IMAGE_HEIGHT, IMAGE_WIDTH, NUM_CHANNELS])\n",
    "    \n",
    "#     # y (label) - one_hot_encoded\n",
    "#     y = tf.placeholder(tf.int64, shape=[BATCH_SIZE, NUM_CLASSES])\n",
    "#     y = tf.one_hot(y, depth=NUM_CLASSES)\n",
    "    \n",
    "#     layer1 = create_new_conv_layer(x_shaped, NUM_CHANNELS, NUM_FILTERS, FILTER_SHAPE, POOL_SHAPE, name='layer1')\n",
    "#     layer2 = create_new_conv_layer(layer1, NUM_FILTERS, NUM_FILTERS*2, \n",
    "#                                    FILTER_SHAPE, POOL_SHAPE, name='layer2')\n",
    "    \n",
    "#     flattened = tf.reshape(layer2, [-1, 56 * 56 * 64])\n",
    "    \n",
    "#     # setup some weights and bias values for this layer, then activate with ReLU\n",
    "#     wd1 = tf.Variable(tf.truncated_normal([56 * 56 * 64, BATCH_SIZE], stddev=0.03), name='wd1')\n",
    "#     bd1 = tf.Variable(tf.truncated_normal([BATCH_SIZE], stddev=0.01), name='bd1')\n",
    "#     dense_layer1 = tf.matmul(flattened, wd1) + bd1\n",
    "#     dense_layer1 = tf.nn.relu(dense_layer1)\n",
    "    \n",
    "#     # another layer with softmax activations\n",
    "#     wd2 = tf.Variable(tf.truncated_normal([BATCH_SIZE, NUM_CLASSES], stddev=0.03), name='wd2')\n",
    "#     bd2 = tf.Variable(tf.truncated_normal([NUM_CLASSES], stddev=0.01), name='bd2')\n",
    "#     dense_layer2 = tf.matmul(dense_layer1, wd2) + bd2\n",
    "#     y_ = tf.nn.softmax(dense_layer2)\n",
    "    \n",
    "#     cross_entropy = tf.reduce_mean(tf.nn.softmax_cross_entropy_with_logits_v2(logits=dense_layer2, labels=y))\n",
    "\n",
    "#     # add an optimiser\n",
    "#     optimiser = tf.train.AdamOptimizer(learning_rate=LEARNING_RATE).minimize(cross_entropy)\n",
    "\n",
    "#     # define an accuracy assessment operation\n",
    "#     correct_prediction = tf.equal(tf.argmax(y, 1), tf.argmax(y_, 1))\n",
    "#     accuracy = tf.reduce_mean(tf.cast(correct_prediction, tf.float32))\n",
    "    \n",
    "#     # setup the initialisation operator\n",
    "#     init_op = tf.global_variables_initializer()\n",
    "\n",
    "#     # setup recording variables\n",
    "#     # add a summary to store the accuracy\n",
    "#     tf.summary.scalar('accuracy', accuracy)"
   ]
  }
 ],
 "metadata": {
  "kernelspec": {
   "display_name": "Python 3",
   "language": "python",
   "name": "python3"
  },
  "language_info": {
   "codemirror_mode": {
    "name": "ipython",
    "version": 3
   },
   "file_extension": ".py",
   "mimetype": "text/x-python",
   "name": "python",
   "nbconvert_exporter": "python",
   "pygments_lexer": "ipython3",
   "version": "3.6.3"
  }
 },
 "nbformat": 4,
 "nbformat_minor": 2
}
