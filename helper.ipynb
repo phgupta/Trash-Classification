{
 "cells": [
  {
   "cell_type": "code",
   "execution_count": null,
   "metadata": {
    "collapsed": true
   },
   "outputs": [],
   "source": [
    "import cv2\n",
    "import numpy as np\n",
    "from PIL import Image\n",
    "import matplotlib.pyplot as plt\n",
    "%matplotlib inline\n",
    "import glob\n",
    "import sys\n",
    "import tensorflow as tf\n",
    "import matplotlib.pyplot as plt\n",
    "from random import shuffle"
   ]
  },
  {
   "cell_type": "code",
   "execution_count": null,
   "metadata": {
    "collapsed": true
   },
   "outputs": [],
   "source": [
    "# Comparison between original image and resized image\n",
    "\n",
    "# Read image and resize to (224, 224)\n",
    "# cv2 load images as BGR, convert it to RGB\n",
    "# addr = 'Temp/paper16.jpg'\n",
    "# img = Image.open(addr)\n",
    "# img.show()\n",
    "# img = cv2.imread(addr)\n",
    "# img = cv2.resize(img, (224, 224), interpolation=cv2.INTER_CUBIC)\n",
    "# img = cv2.cvtColor(img, cv2.COLOR_BGR2RGB)\n",
    "# img = img.astype(np.float32)\n",
    "# imgplot = plt.imshow(img)"
   ]
  },
  {
   "cell_type": "markdown",
   "metadata": {},
   "source": [
    "# Parameters"
   ]
  },
  {
   "cell_type": "code",
   "execution_count": null,
   "metadata": {
    "collapsed": true
   },
   "outputs": [],
   "source": [
    "DATASET_PATH = \"Dataset/**/*.jpg\"\n",
    "CLASS_LABELS = ['compost', 'landfill', 'recyclable']\n",
    "TRAIN_VAL_TEST = {'train': 0.6, 'val': 0.8, 'test': 1} # Train: 60%, Val: 20%, Test: 20%\n",
    "BATCH_SIZE = 5\n",
    "IMAGE_RESIZE_SHAPE = (224, 224)\n",
    "IMAGE_RESIZE_SHAPE_LIST = [224, 224, 3]\n",
    "IMAGE_SIZE = 224\n",
    "# NUM_CHANNELS = 3 # RGB\n",
    "# NUM_CLASSES = 3 # Compost, Landfill & Recyclable\n",
    "# NUM_EPOCHS = 5\n",
    "# NUM_FILTERS = 32\n",
    "# FILTER_SHAPE = [5, 5]\n",
    "# POOL_SHAPE = [2, 2]"
   ]
  },
  {
   "cell_type": "markdown",
   "metadata": {},
   "source": [
    "# Collect & Split Data"
   ]
  },
  {
   "cell_type": "code",
   "execution_count": null,
   "metadata": {
    "collapsed": true
   },
   "outputs": [],
   "source": [
    "def collect_split_data():\n",
    "    \n",
    "    labels = []\n",
    "    \n",
    "    files = glob.glob(DATASET_PATH)\n",
    "    for file in files:\n",
    "        if CLASS_LABELS[0] in file:\n",
    "            labels.append(0)\n",
    "        elif CLASS_LABELS[1] in file:\n",
    "            labels.append(1)\n",
    "        elif CLASS_LABELS[2] in file:\n",
    "            labels.append(2)\n",
    "        else:\n",
    "            print(\"Error: Image filename does not contain correct label.\")\n",
    "\n",
    "    c = list(zip(files, labels))\n",
    "    shuffle(c)\n",
    "    files, labels = zip(*c)\n",
    "    \n",
    "    train_img = files[0:int(TRAIN_VAL_TEST['train'] * len(files))]\n",
    "    train_labels = labels[0:int(TRAIN_VAL_TEST['train'] * len(files))]\n",
    "    val_img = files[int(TRAIN_VAL_TEST['train'] * len(files)) : int(TRAIN_VAL_TEST['val'] * len(files))]\n",
    "    val_labels = labels[int(TRAIN_VAL_TEST['train'] * len(files)) : int(TRAIN_VAL_TEST['val'] * len(files))]\n",
    "    test_img = files[int(TRAIN_VAL_TEST['val'] * len(files)):]\n",
    "    test_labels = labels[int(TRAIN_VAL_TEST['val'] * len(files)):]\n",
    "        \n",
    "    return len(files), train_img, train_labels, val_img, val_labels, test_img, test_labels"
   ]
  },
  {
   "cell_type": "markdown",
   "metadata": {},
   "source": [
    "# Write data to tfrecords"
   ]
  },
  {
   "cell_type": "code",
   "execution_count": null,
   "metadata": {
    "collapsed": true
   },
   "outputs": [],
   "source": [
    "def load_image(addr):\n",
    "    # Read, resize and convert to RGB (since cv2 loads images as BGR)\n",
    "    img = Image.open(addr)\n",
    "    img = cv2.imread(addr)\n",
    "    img = cv2.resize(img, IMAGE_RESIZE_SHAPE, interpolation=cv2.INTER_CUBIC)\n",
    "    img = cv2.cvtColor(img, cv2.COLOR_BGR2RGB)\n",
    "    img = img.astype(np.float32)\n",
    "    return img\n",
    "\n",
    "def _int64_feature(value):\n",
    "    return tf.train.Feature(int64_list=tf.train.Int64List(value=[value]))\n",
    "\n",
    "def _bytes_feature(value):\n",
    "    return tf.train.Feature(bytes_list=tf.train.BytesList(value=[value]))\n",
    "\n",
    "def create_tfrecord(files, labels, train_val_test):\n",
    "        \n",
    "    # Open .tfrecords file\n",
    "    writer = tf.python_io.TFRecordWriter(train_val_test+'.tfrecords')\n",
    "    \n",
    "    for i in range(len(files)):\n",
    "    \n",
    "        # Load image and its label\n",
    "        img = load_image(files[i])\n",
    "        label = labels[i]\n",
    "\n",
    "        # Create a feature\n",
    "        feature = { train_val_test+'/label': _int64_feature(label),\n",
    "                    train_val_test+'/image': _bytes_feature(tf.compat.as_bytes(img.tobytes()))}\n",
    "\n",
    "        # Create an example protocol buffer\n",
    "        example = tf.train.Example(features=tf.train.Features(feature=feature))\n",
    "\n",
    "        # Serialize to string and write to file\n",
    "        writer.write(example.SerializeToString())\n",
    "    \n",
    "    writer.close()\n",
    "    sys.stdout.flush()\n",
    "\n",
    "def create_tfrecords(train_img, train_labels, val_img, val_labels, test_img, test_labels):\n",
    "    \n",
    "    create_tfrecord(train_img, train_labels, 'train')\n",
    "    create_tfrecord(val_img, val_labels, 'val')\n",
    "    create_tfrecord(test_img, test_labels, 'test')"
   ]
  },
  {
   "cell_type": "markdown",
   "metadata": {},
   "source": [
    "# Read data from tfrecords"
   ]
  },
  {
   "cell_type": "code",
   "execution_count": null,
   "metadata": {
    "collapsed": true
   },
   "outputs": [],
   "source": [
    "def read_from_tfrecords(train_val_test):\n",
    "    \n",
    "    file = glob.glob(train_val_test+'.tfrecords')\n",
    "    \n",
    "\n",
    "    feature = { train_val_test+'/image': tf.FixedLenFeature([], tf.string),\n",
    "                train_val_test+'/label': tf.FixedLenFeature([], tf.int64) }\n",
    "\n",
    "    # Enqueue train.tfrecords\n",
    "    filename_queue = tf.train.string_input_producer(file, num_epochs=1)\n",
    "\n",
    "    # Define reader and read file from queue\n",
    "    reader = tf.TFRecordReader()\n",
    "    _, serialized_example = reader.read(filename_queue)\n",
    "\n",
    "    # Decode the record read by the reader\n",
    "    features = tf.parse_single_example(serialized_example, features=feature)\n",
    "    \n",
    "    # Convert serialized data back to arrays and numbers\n",
    "    image = tf.decode_raw(features[train_val_test+'/image'], tf.float32)\n",
    "    label = tf.cast(features[train_val_test+'/label'], tf.int32)\n",
    "    \n",
    "    # Reshape image data to original shape\n",
    "    image = tf.reshape(image, IMAGE_RESIZE_SHAPE_LIST)\n",
    "    \n",
    "    # CHECK: Delete later\n",
    "    image, label = tf.train.shuffle_batch([image, label], batch_size=2, capacity=10, \n",
    "                                                          num_threads=1, min_after_dequeue=0)\n",
    "    \n",
    "    return image, label"
   ]
  },
  {
   "cell_type": "markdown",
   "metadata": {},
   "source": [
    "# Main"
   ]
  },
  {
   "cell_type": "code",
   "execution_count": null,
   "metadata": {},
   "outputs": [],
   "source": [
    "# Collect data from \"Dataset/\", shuffle, and split it into training, validation & testing set.\n",
    "data_size, train_img, train_labels, val_img, val_labels, test_img, test_labels = collect_split_data()\n",
    "\n",
    "# Creates train.tfrecords, val.tfrecords & test.tfrecords\n",
    "create_tfrecords(train_img, train_labels, val_img, val_labels, test_img, test_labels)\n",
    "\n",
    "images, labels = read_from_tfrecords('train')\n",
    "i = 0 \n",
    "\n",
    "with tf.Session() as sess:\n",
    "    # Initialize all global and local variables\n",
    "    init_op = tf.group(tf.global_variables_initializer(), tf.local_variables_initializer())\n",
    "    sess.run(init_op)\n",
    "    \n",
    "    # Create a coordinator and run all QueueRunner objects\n",
    "    coord = tf.train.Coordinator()\n",
    "    threads = tf.train.start_queue_runners(coord=coord)\n",
    "    \n",
    "    for batch_index in range(5):\n",
    "        img, lbl = sess.run([images, labels])\n",
    "        img = img.astype(np.uint8)\n",
    "        for j in range(2):\n",
    "            plt.subplot(5, 3, i+1)\n",
    "            plt.imshow(img[j, ...])\n",
    "            plt.title('cat' if lbl[j]==0 else 'dog')\n",
    "            i += 1\n",
    "        plt.show()\n",
    "    # Stop the threads\n",
    "    coord.request_stop()\n",
    "\n",
    "    # Wait for threads to stop\n",
    "    coord.join(threads)\n",
    "    sess.close()"
   ]
  },
  {
   "cell_type": "code",
   "execution_count": null,
   "metadata": {
    "collapsed": true
   },
   "outputs": [],
   "source": []
  }
 ],
 "metadata": {
  "kernelspec": {
   "display_name": "Python 3",
   "language": "python",
   "name": "python3"
  },
  "language_info": {
   "codemirror_mode": {
    "name": "ipython",
    "version": 3
   },
   "file_extension": ".py",
   "mimetype": "text/x-python",
   "name": "python",
   "nbconvert_exporter": "python",
   "pygments_lexer": "ipython3",
   "version": "3.6.3"
  }
 },
 "nbformat": 4,
 "nbformat_minor": 2
}
