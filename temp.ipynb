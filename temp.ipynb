{
 "cells": [
  {
   "cell_type": "code",
   "execution_count": 1,
   "metadata": {},
   "outputs": [
    {
     "name": "stderr",
     "output_type": "stream",
     "text": [
      "Using TensorFlow backend.\n"
     ]
    }
   ],
   "source": [
    "from PIL import Image\n",
    "import numpy as np\n",
    "import glob\n",
    "import keras\n",
    "from sklearn.model_selection import train_test_split"
   ]
  },
  {
   "cell_type": "markdown",
   "metadata": {},
   "source": [
    "# Parameters"
   ]
  },
  {
   "cell_type": "code",
   "execution_count": 2,
   "metadata": {
    "collapsed": true
   },
   "outputs": [],
   "source": [
    "TRAIN_SIZE = 0.7\n",
    "NUM_CLASSES = 3"
   ]
  },
  {
   "cell_type": "markdown",
   "metadata": {},
   "source": [
    "# Read & Split Data"
   ]
  },
  {
   "cell_type": "code",
   "execution_count": 3,
   "metadata": {
    "collapsed": true
   },
   "outputs": [],
   "source": [
    "def view_images(image_list):\n",
    "    for image in image_list:\n",
    "        img = Image.fromarray(image, 'RGB')\n",
    "        img.show()"
   ]
  },
  {
   "cell_type": "code",
   "execution_count": 4,
   "metadata": {},
   "outputs": [],
   "source": [
    "def read_split_data():\n",
    "    image_list = []\n",
    "    myclass = []\n",
    "    for filename in glob.glob('Dataset/Compost/*.jpg'): #assuming gif\n",
    "        im=np.array(Image.open(filename))\n",
    "        myclass.append(0)\n",
    "        image_list.append(im)\n",
    "    for filename in glob.glob('Dataset/Landfill/*.jpg'): #assuming gif\n",
    "        im=np.array(Image.open(filename))\n",
    "        image_list.append(im)\n",
    "        myclass.append(1)\n",
    "    for filename in glob.glob('Dataset/Recyclable/*.jpg'): #assuming gif\n",
    "        im=np.array(Image.open(filename))\n",
    "        image_list.append(im)\n",
    "        myclass.append(2)\n",
    "    \n",
    "    X = np.asarray(image_list)\n",
    "    y = keras.utils.to_categorical(np.asarray(myclass), num_classes=NUM_CLASSES)\n",
    "    X_train, X_test, y_train, y_test = train_test_split(X, y, train_size=TRAIN_SIZE)\n",
    "    \n",
    "    return len(X_train), len(X_test), X_train, X_test, y_train, y_test"
   ]
  },
  {
   "cell_type": "markdown",
   "metadata": {},
   "source": [
    "# Main"
   ]
  },
  {
   "cell_type": "code",
   "execution_count": 5,
   "metadata": {},
   "outputs": [
    {
     "name": "stderr",
     "output_type": "stream",
     "text": [
      "/Users/pranavhgupta/anaconda3/lib/python3.6/site-packages/sklearn/model_selection/_split.py:2026: FutureWarning: From version 0.21, test_size will always complement train_size unless both are specified.\n",
      "  FutureWarning)\n"
     ]
    }
   ],
   "source": [
    "train_size, test_size, X_train, X_test, y_train, y_test = read_split_data()\n",
    "# view_images(X_test)"
   ]
  }
 ],
 "metadata": {
  "kernelspec": {
   "display_name": "Python 3",
   "language": "python",
   "name": "python3"
  },
  "language_info": {
   "codemirror_mode": {
    "name": "ipython",
    "version": 3
   },
   "file_extension": ".py",
   "mimetype": "text/x-python",
   "name": "python",
   "nbconvert_exporter": "python",
   "pygments_lexer": "ipython3",
   "version": "3.6.3"
  }
 },
 "nbformat": 4,
 "nbformat_minor": 2
}
